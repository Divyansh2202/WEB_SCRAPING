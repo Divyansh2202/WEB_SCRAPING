{
 "cells": [
  {
   "cell_type": "code",
   "execution_count": 3,
   "id": "6918d174-6d8b-4aa2-b7e0-086c051315c9",
   "metadata": {},
   "outputs": [],
   "source": [
    "import pandas as pd \n",
    "import requests\n",
    "from bs4 import BeautifulSoup"
   ]
  },
  {
   "cell_type": "code",
   "execution_count": 4,
   "id": "52b419e0-adf9-4ae7-b192-a76e469ae34d",
   "metadata": {},
   "outputs": [],
   "source": [
    "headers={'User-Agent':'Mozilla/5.0 (Windows NT 6.3; Win 64 ; x64) Apple WeKit /537.36(KHTML , like Gecko) Chrome/80.0.3987.162 Safari/537.36'}\n",
    "webpage = requests.get(\"https://www.acemicromatic.net/product_cat/milling/\", headers=headers).text"
   ]
  },
  {
   "cell_type": "code",
   "execution_count": 5,
   "id": "5779c313-5a2f-4654-b352-f7c83d72d973",
   "metadata": {},
   "outputs": [],
   "source": [
    "soup=BeautifulSoup(webpage,'html.parser')"
   ]
  },
  {
   "cell_type": "markdown",
   "id": "e0dc8c2c-4054-4adf-869e-5040547fa599",
   "metadata": {},
   "source": [
    "# PRODUCT IN MILLING"
   ]
  },
  {
   "cell_type": "code",
   "execution_count": 6,
   "id": "71cd9ec4-5c70-42f8-b373-754ccd18fd1e",
   "metadata": {},
   "outputs": [
    {
     "name": "stdout",
     "output_type": "stream",
     "text": [
      "Drill Tap Machining Centers \n",
      "Vertical Machining Centers \n",
      "Twin Spindle VMC \n",
      "5 Axes VMC \n",
      "Special VMC \n",
      "Double Column \n",
      "Horizontal Machining Centers \n"
     ]
    }
   ],
   "source": [
    "for i in soup.find_all(class_='productcat-wrapper'):\n",
    "    for j in i.find_all('h4'):\n",
    "        print(j.text)"
   ]
  },
  {
   "cell_type": "markdown",
   "id": "3f0ed276-8b08-488c-894a-783d53b815d9",
   "metadata": {},
   "source": [
    "# Getting links for further products details"
   ]
  },
  {
   "cell_type": "code",
   "execution_count": 7,
   "id": "64d0f59c-8a44-4e4a-8819-48d01ed19cec",
   "metadata": {},
   "outputs": [],
   "source": [
    "# for i in soup.find_all(class_ = 'button-wrapper'):\n",
    "#     for j in i.find_all('a'):\n",
    "#         print(j.get('href'))\n",
    "        "
   ]
  },
  {
   "cell_type": "code",
   "execution_count": 8,
   "id": "7281b612-cc4a-428c-9e7c-fdd3ad3deb77",
   "metadata": {},
   "outputs": [],
   "source": [
    "links = [j.get('href') for i in soup.find_all(class_='button-wrapper') for j in i.find_all('a')]"
   ]
  },
  {
   "cell_type": "code",
   "execution_count": 9,
   "id": "ee784f54-ae70-4877-a243-08e56457fc5d",
   "metadata": {},
   "outputs": [
    {
     "data": {
      "text/plain": [
       "['https://www.acemicromatic.net/product_cat/drill-tap-machining-centers/',\n",
       " 'https://www.acemicromatic.net/product_cat/vertical-machining-centers/',\n",
       " 'https://www.acemicromatic.net/product_cat/twin-spindle-vmc-geminis/',\n",
       " 'https://www.acemicromatic.net/product_cat/5-axes-vmc/',\n",
       " 'https://www.acemicromatic.net/product_cat/special-vmc/',\n",
       " 'https://www.acemicromatic.net/product_cat/double-column/',\n",
       " 'https://www.acemicromatic.net/product_cat/horizontal-machining-centers/']"
      ]
     },
     "execution_count": 9,
     "metadata": {},
     "output_type": "execute_result"
    }
   ],
   "source": [
    "links"
   ]
  },
  {
   "cell_type": "markdown",
   "id": "6c1e2e1e-4c11-4918-91e7-95ebfa518cd8",
   "metadata": {},
   "source": [
    "# Every product in Drill Tap Machining Centers"
   ]
  },
  {
   "cell_type": "code",
   "execution_count": 10,
   "id": "e988cd2e-c5d5-4d04-991f-a7ecb3734f5b",
   "metadata": {},
   "outputs": [],
   "source": [
    "DTMC = links[0]"
   ]
  },
  {
   "cell_type": "code",
   "execution_count": 11,
   "id": "11bafd00-1691-435a-be66-1a68f01efd6e",
   "metadata": {},
   "outputs": [
    {
     "data": {
      "text/plain": [
       "'https://www.acemicromatic.net/product_cat/drill-tap-machining-centers/'"
      ]
     },
     "execution_count": 11,
     "metadata": {},
     "output_type": "execute_result"
    }
   ],
   "source": [
    "DTMC"
   ]
  },
  {
   "cell_type": "code",
   "execution_count": 12,
   "id": "86450daa-a2a9-4ecd-a71b-42ef0e85090e",
   "metadata": {},
   "outputs": [],
   "source": [
    "nw1 = requests.get(DTMC, headers=headers)"
   ]
  },
  {
   "cell_type": "code",
   "execution_count": 13,
   "id": "11e03a8c-149c-421c-b636-89a6c44d61f5",
   "metadata": {},
   "outputs": [
    {
     "data": {
      "text/plain": [
       "<Response [200]>"
      ]
     },
     "execution_count": 13,
     "metadata": {},
     "output_type": "execute_result"
    }
   ],
   "source": [
    "nw1"
   ]
  },
  {
   "cell_type": "code",
   "execution_count": 14,
   "id": "2d9902bc-1dff-4db0-8bc3-9568d6e4542e",
   "metadata": {},
   "outputs": [],
   "source": [
    "soup1=BeautifulSoup(nw1.content,'html.parser')"
   ]
  },
  {
   "cell_type": "code",
   "execution_count": 15,
   "id": "18e06ab3-1e83-494b-9d61-5d0909293441",
   "metadata": {
    "scrolled": true
   },
   "outputs": [],
   "source": [
    "# for i in soup1.find_all(class_='productcat-wrapper'):\n",
    "#     for j in i.find_all('h4'):\n",
    "#         print(j.text)"
   ]
  },
  {
   "cell_type": "code",
   "execution_count": 16,
   "id": "fa502c16-8708-4875-bbd1-eb2062d40e61",
   "metadata": {},
   "outputs": [],
   "source": [
    "product_names = [j.text for i in soup1.find_all(class_='productcat-wrapper') for j in i.find_all('h4')]"
   ]
  },
  {
   "cell_type": "code",
   "execution_count": 17,
   "id": "db213c1e-1b38-44cf-807c-e477af63085d",
   "metadata": {},
   "outputs": [
    {
     "data": {
      "text/plain": [
       "['SPARK',\n",
       " 'SPARK XL',\n",
       " 'DTC-400',\n",
       " 'DTC-400 XL',\n",
       " 'DTC-400L XL',\n",
       " 'DTC-500L XL',\n",
       " 'TCV-540']"
      ]
     },
     "execution_count": 17,
     "metadata": {},
     "output_type": "execute_result"
    }
   ],
   "source": [
    "product_names"
   ]
  },
  {
   "cell_type": "code",
   "execution_count": 18,
   "id": "a28e0c64-d4cc-4026-b374-936184f1e700",
   "metadata": {},
   "outputs": [],
   "source": [
    "# for i in soup1.find_all(class_ = 'button-wrapper'):\n",
    "#     for j in i.find_all('a'):\n",
    "#         print(j.get('href'))"
   ]
  },
  {
   "cell_type": "code",
   "execution_count": 19,
   "id": "fc9ad31e-2290-4a6b-b59e-02d4d857c892",
   "metadata": {},
   "outputs": [],
   "source": [
    "links1 = [j.get('href') for i in soup1.find_all(class_='button-wrapper') for j in i.find_all('a')]"
   ]
  },
  {
   "cell_type": "code",
   "execution_count": 20,
   "id": "f6b2bc36-8782-48b7-a235-717cf0496c5f",
   "metadata": {},
   "outputs": [
    {
     "data": {
      "text/plain": [
       "['https://www.acemicromatic.net/aceproduct/spark/',\n",
       " 'https://www.acemicromatic.net/aceproduct/spark-xl/',\n",
       " 'https://www.acemicromatic.net/aceproduct/dtc-400/',\n",
       " 'https://www.acemicromatic.net/aceproduct/dtc-400-xl/',\n",
       " 'https://www.acemicromatic.net/aceproduct/dtc-400l-xl/',\n",
       " 'https://www.acemicromatic.net/aceproduct/dtc-500l-xl/',\n",
       " 'https://www.acemicromatic.net/aceproduct/tcv-540/']"
      ]
     },
     "execution_count": 20,
     "metadata": {},
     "output_type": "execute_result"
    }
   ],
   "source": [
    "links1"
   ]
  },
  {
   "cell_type": "code",
   "execution_count": 21,
   "id": "26e3cba8-39ac-4094-a7ce-3ea9b08af670",
   "metadata": {},
   "outputs": [],
   "source": [
    "xyz = []\n",
    "\n",
    "for link_data in links1:\n",
    "    nw2 = requests.get(link_data, headers=headers)\n",
    "    soup2=BeautifulSoup(nw2.content,'html.parser')\n",
    "    table = soup2.find('table')\n",
    "    table_data = [[cell.text.strip() for cell in row.find_all('td')] for row in table.find_all('tr')]\n",
    "    xyz.append(table_data[6][-1])"
   ]
  },
  {
   "cell_type": "code",
   "execution_count": 22,
   "id": "817ba9f7-f057-456e-938a-103209db622e",
   "metadata": {},
   "outputs": [
    {
     "data": {
      "text/plain": [
       "['300 / 250 / 250',\n",
       " '400 / 300 / 250',\n",
       " '500 / 400 / 320',\n",
       " '500 / 400 / 320',\n",
       " '700 / 400 / 320',\n",
       " '1000 / 400 / 320',\n",
       " '500 / 400 / 320']"
      ]
     },
     "execution_count": 22,
     "metadata": {},
     "output_type": "execute_result"
    }
   ],
   "source": [
    "xyz"
   ]
  },
  {
   "cell_type": "code",
   "execution_count": 23,
   "id": "15e63fb5-3084-4835-b303-a099b64a2766",
   "metadata": {},
   "outputs": [],
   "source": [
    "travels = []"
   ]
  },
  {
   "cell_type": "code",
   "execution_count": 24,
   "id": "3f9b5a6a-351e-402a-bd45-982eac51bec2",
   "metadata": {},
   "outputs": [],
   "source": [
    "for i in range(len(xyz)):\n",
    "    travels.append(xyz[i].split('/'))"
   ]
  },
  {
   "cell_type": "code",
   "execution_count": 25,
   "id": "dfc56ede-3d2e-4594-a6e6-6661c7f8c641",
   "metadata": {},
   "outputs": [
    {
     "data": {
      "text/plain": [
       "[['300 ', ' 250 ', ' 250'],\n",
       " ['400 ', ' 300 ', ' 250'],\n",
       " ['500 ', ' 400 ', ' 320'],\n",
       " ['500 ', ' 400 ', ' 320'],\n",
       " ['700 ', ' 400 ', ' 320'],\n",
       " ['1000 ', ' 400 ', ' 320'],\n",
       " ['500 ', ' 400 ', ' 320']]"
      ]
     },
     "execution_count": 25,
     "metadata": {},
     "output_type": "execute_result"
    }
   ],
   "source": [
    "travels"
   ]
  },
  {
   "cell_type": "code",
   "execution_count": 26,
   "id": "420c432e-98d8-407f-a2b2-5ccf0417e65c",
   "metadata": {},
   "outputs": [],
   "source": [
    "x_travel = [row[0] for row in travels]"
   ]
  },
  {
   "cell_type": "code",
   "execution_count": 27,
   "id": "6c4a5594-f718-417c-b3eb-2e7165f34fd7",
   "metadata": {},
   "outputs": [],
   "source": [
    "y_travel = [row[1] for row in travels]"
   ]
  },
  {
   "cell_type": "code",
   "execution_count": 28,
   "id": "d4e113ce-fdf2-4a94-a868-4ee208abf5e7",
   "metadata": {},
   "outputs": [],
   "source": [
    "z_travel = [row[2] for row in travels]"
   ]
  },
  {
   "cell_type": "code",
   "execution_count": 29,
   "id": "3f7eb59e-5a00-42f3-8b11-90278eaf6b2f",
   "metadata": {},
   "outputs": [],
   "source": [
    "param_2 = []\n",
    "for i in range(len(x_travel)):\n",
    "    param_2.append('Drill Tap Machining Centers')"
   ]
  },
  {
   "cell_type": "code",
   "execution_count": 30,
   "id": "eebe0db3-85c2-4fb3-96b1-fc4990e6b6e2",
   "metadata": {},
   "outputs": [],
   "source": [
    "df1 = pd.DataFrame({'param_2': param_2, 'model_name': product_names, 'x_travel':x_travel , 'y_travel':y_travel,'z_travel':z_travel})"
   ]
  },
  {
   "cell_type": "code",
   "execution_count": 31,
   "id": "7f9ec5ae-213f-407a-85bd-b90929cc9f59",
   "metadata": {},
   "outputs": [
    {
     "data": {
      "text/html": [
       "<div>\n",
       "<style scoped>\n",
       "    .dataframe tbody tr th:only-of-type {\n",
       "        vertical-align: middle;\n",
       "    }\n",
       "\n",
       "    .dataframe tbody tr th {\n",
       "        vertical-align: top;\n",
       "    }\n",
       "\n",
       "    .dataframe thead th {\n",
       "        text-align: right;\n",
       "    }\n",
       "</style>\n",
       "<table border=\"1\" class=\"dataframe\">\n",
       "  <thead>\n",
       "    <tr style=\"text-align: right;\">\n",
       "      <th></th>\n",
       "      <th>param_2</th>\n",
       "      <th>model_name</th>\n",
       "      <th>x_travel</th>\n",
       "      <th>y_travel</th>\n",
       "      <th>z_travel</th>\n",
       "    </tr>\n",
       "  </thead>\n",
       "  <tbody>\n",
       "    <tr>\n",
       "      <th>0</th>\n",
       "      <td>Drill Tap Machining Centers</td>\n",
       "      <td>SPARK</td>\n",
       "      <td>300</td>\n",
       "      <td>250</td>\n",
       "      <td>250</td>\n",
       "    </tr>\n",
       "    <tr>\n",
       "      <th>1</th>\n",
       "      <td>Drill Tap Machining Centers</td>\n",
       "      <td>SPARK XL</td>\n",
       "      <td>400</td>\n",
       "      <td>300</td>\n",
       "      <td>250</td>\n",
       "    </tr>\n",
       "    <tr>\n",
       "      <th>2</th>\n",
       "      <td>Drill Tap Machining Centers</td>\n",
       "      <td>DTC-400</td>\n",
       "      <td>500</td>\n",
       "      <td>400</td>\n",
       "      <td>320</td>\n",
       "    </tr>\n",
       "    <tr>\n",
       "      <th>3</th>\n",
       "      <td>Drill Tap Machining Centers</td>\n",
       "      <td>DTC-400 XL</td>\n",
       "      <td>500</td>\n",
       "      <td>400</td>\n",
       "      <td>320</td>\n",
       "    </tr>\n",
       "    <tr>\n",
       "      <th>4</th>\n",
       "      <td>Drill Tap Machining Centers</td>\n",
       "      <td>DTC-400L XL</td>\n",
       "      <td>700</td>\n",
       "      <td>400</td>\n",
       "      <td>320</td>\n",
       "    </tr>\n",
       "    <tr>\n",
       "      <th>5</th>\n",
       "      <td>Drill Tap Machining Centers</td>\n",
       "      <td>DTC-500L XL</td>\n",
       "      <td>1000</td>\n",
       "      <td>400</td>\n",
       "      <td>320</td>\n",
       "    </tr>\n",
       "    <tr>\n",
       "      <th>6</th>\n",
       "      <td>Drill Tap Machining Centers</td>\n",
       "      <td>TCV-540</td>\n",
       "      <td>500</td>\n",
       "      <td>400</td>\n",
       "      <td>320</td>\n",
       "    </tr>\n",
       "  </tbody>\n",
       "</table>\n",
       "</div>"
      ],
      "text/plain": [
       "                       param_2   model_name x_travel y_travel z_travel\n",
       "0  Drill Tap Machining Centers        SPARK     300      250       250\n",
       "1  Drill Tap Machining Centers     SPARK XL     400      300       250\n",
       "2  Drill Tap Machining Centers      DTC-400     500      400       320\n",
       "3  Drill Tap Machining Centers   DTC-400 XL     500      400       320\n",
       "4  Drill Tap Machining Centers  DTC-400L XL     700      400       320\n",
       "5  Drill Tap Machining Centers  DTC-500L XL    1000      400       320\n",
       "6  Drill Tap Machining Centers      TCV-540     500      400       320"
      ]
     },
     "execution_count": 31,
     "metadata": {},
     "output_type": "execute_result"
    }
   ],
   "source": [
    "df1"
   ]
  },
  {
   "cell_type": "markdown",
   "id": "b3dba2b5-74fd-45b9-ac0e-62def33af5fd",
   "metadata": {},
   "source": [
    "# Vertical Machining Centers"
   ]
  },
  {
   "cell_type": "code",
   "execution_count": 32,
   "id": "31bebba1-026d-4853-ac28-3993833afc82",
   "metadata": {},
   "outputs": [],
   "source": [
    "VMC = links[1]"
   ]
  },
  {
   "cell_type": "code",
   "execution_count": 33,
   "id": "c89b531a-c178-48cd-ba42-4e6f6542df67",
   "metadata": {},
   "outputs": [
    {
     "data": {
      "text/plain": [
       "'https://www.acemicromatic.net/product_cat/vertical-machining-centers/'"
      ]
     },
     "execution_count": 33,
     "metadata": {},
     "output_type": "execute_result"
    }
   ],
   "source": [
    "VMC"
   ]
  },
  {
   "cell_type": "code",
   "execution_count": 34,
   "id": "dba65032-1685-4785-a6a7-df9189c76e0a",
   "metadata": {},
   "outputs": [],
   "source": [
    "nw3 = requests.get(VMC, headers=headers)"
   ]
  },
  {
   "cell_type": "code",
   "execution_count": 35,
   "id": "a78cb9b6-f11a-442a-a04b-ad4382511a26",
   "metadata": {},
   "outputs": [],
   "source": [
    "soup3=BeautifulSoup(nw3.content,'html.parser')"
   ]
  },
  {
   "cell_type": "code",
   "execution_count": 36,
   "id": "c8145470-c82b-4dc7-88b7-db1fe2cc762b",
   "metadata": {},
   "outputs": [],
   "source": [
    "links3 = [j.get('href') for i in soup3.find_all(class_='button-wrapper') for j in i.find_all('a')]"
   ]
  },
  {
   "cell_type": "code",
   "execution_count": 37,
   "id": "d2f6d5ca-1aa5-4c18-865f-1f87cfedee24",
   "metadata": {},
   "outputs": [
    {
     "data": {
      "text/plain": [
       "['https://www.acemicromatic.net/product_cat/small/',\n",
       " 'https://www.acemicromatic.net/product_cat/medium/',\n",
       " 'https://www.acemicromatic.net/product_cat/large/',\n",
       " 'https://www.acemicromatic.net/product_cat/v-series/',\n",
       " 'https://www.acemicromatic.net/product_cat/heavy-duty/']"
      ]
     },
     "execution_count": 37,
     "metadata": {},
     "output_type": "execute_result"
    }
   ],
   "source": [
    "links3"
   ]
  },
  {
   "cell_type": "markdown",
   "id": "3ae1234c-4682-42e9-9710-2602ab15284d",
   "metadata": {},
   "source": [
    "# SMALL ---->>>"
   ]
  },
  {
   "cell_type": "code",
   "execution_count": 38,
   "id": "0eb3f3ad-4ab4-47d9-b44f-8f15700a910e",
   "metadata": {},
   "outputs": [],
   "source": [
    "Small = links3[0]"
   ]
  },
  {
   "cell_type": "code",
   "execution_count": 39,
   "id": "83e01161-b005-46f1-bfb1-027858008824",
   "metadata": {},
   "outputs": [
    {
     "data": {
      "text/plain": [
       "'https://www.acemicromatic.net/product_cat/small/'"
      ]
     },
     "execution_count": 39,
     "metadata": {},
     "output_type": "execute_result"
    }
   ],
   "source": [
    "Small"
   ]
  },
  {
   "cell_type": "code",
   "execution_count": 40,
   "id": "6b18f466-7d86-4547-806d-7cafa9893e11",
   "metadata": {},
   "outputs": [],
   "source": [
    "nw4 = requests.get(Small, headers=headers)"
   ]
  },
  {
   "cell_type": "code",
   "execution_count": 41,
   "id": "819f7d4a-1575-4ab9-ab90-ba8a4d7d2c15",
   "metadata": {},
   "outputs": [],
   "source": [
    "soup4=BeautifulSoup(nw4.content,'html.parser')"
   ]
  },
  {
   "cell_type": "code",
   "execution_count": 42,
   "id": "7d2d3eea-e62f-4789-9cc9-38e407b5a6ad",
   "metadata": {},
   "outputs": [],
   "source": [
    "pd_names = [j.text for i in soup4.find_all(class_='content') for j in i.find_all('h4')]"
   ]
  },
  {
   "cell_type": "code",
   "execution_count": 43,
   "id": "a59e97f0-1a60-4a59-8e5f-8e1b1b1e4a2e",
   "metadata": {},
   "outputs": [
    {
     "data": {
      "text/plain": [
       "['430 V', 'MCV-300', 'MCV-350', 'SUPER WINNER']"
      ]
     },
     "execution_count": 43,
     "metadata": {},
     "output_type": "execute_result"
    }
   ],
   "source": [
    "pd_names"
   ]
  },
  {
   "cell_type": "code",
   "execution_count": 44,
   "id": "9961462e-13a3-4242-84f0-db1f1894f509",
   "metadata": {},
   "outputs": [],
   "source": [
    "links4 = [j.get('href') for i in soup4.find_all(class_='button-wrapper') for j in i.find_all('a')]"
   ]
  },
  {
   "cell_type": "code",
   "execution_count": 45,
   "id": "ca603111-7351-4b7f-9940-ddb92a4395e7",
   "metadata": {},
   "outputs": [
    {
     "data": {
      "text/plain": [
       "['https://www.acemicromatic.net/aceproduct/430-v/',\n",
       " 'https://www.acemicromatic.net/aceproduct/mcv-300/',\n",
       " 'https://www.acemicromatic.net/aceproduct/mcv-350/',\n",
       " 'https://www.acemicromatic.net/aceproduct/super-winner/']"
      ]
     },
     "execution_count": 45,
     "metadata": {},
     "output_type": "execute_result"
    }
   ],
   "source": [
    "links4"
   ]
  },
  {
   "cell_type": "code",
   "execution_count": 46,
   "id": "6239f28f-1b8a-42c5-a7e3-3ad09e21ea31",
   "metadata": {},
   "outputs": [],
   "source": [
    "xyz1 = []\n",
    "\n",
    "for link_data in links4:\n",
    "    nw4 = requests.get(link_data, headers=headers)\n",
    "    soup4=BeautifulSoup(nw4.content,'html.parser')\n",
    "    table = soup4.find('table')\n",
    "    table_data = [[cell.text.strip() for cell in row.find_all('td')] for row in table.find_all('tr')]\n",
    "    xyz1.append(table_data[6][-1])"
   ]
  },
  {
   "cell_type": "code",
   "execution_count": 47,
   "id": "e147970e-0b70-45ee-b5df-72f5e19f7e6d",
   "metadata": {},
   "outputs": [],
   "source": [
    "travels1 = []\n",
    "for i in range(len(xyz1)):\n",
    "    travels1.append(xyz1[i].split('/'))"
   ]
  },
  {
   "cell_type": "code",
   "execution_count": 48,
   "id": "14376b69-4506-4fb1-9932-83563c4182a8",
   "metadata": {},
   "outputs": [],
   "source": [
    "x_travel = [row[0] for row in travels1]\n",
    "y_travel = [row[1] for row in travels1]\n",
    "z_travel = [row[2] for row in travels1]\n",
    "param_2 = []\n",
    "for i in range(len(x_travel)):\n",
    "    param_2.append('Vertical Machining Centers')\n",
    "\n",
    "df2 = pd.DataFrame({'param_2': param_2, 'model_name': pd_names, 'x_travel':x_travel , 'y_travel':y_travel,'z_travel':z_travel})"
   ]
  },
  {
   "cell_type": "code",
   "execution_count": 49,
   "id": "f40f20a7-12fd-4961-83c7-3ae2a62cfe45",
   "metadata": {},
   "outputs": [
    {
     "data": {
      "text/html": [
       "<div>\n",
       "<style scoped>\n",
       "    .dataframe tbody tr th:only-of-type {\n",
       "        vertical-align: middle;\n",
       "    }\n",
       "\n",
       "    .dataframe tbody tr th {\n",
       "        vertical-align: top;\n",
       "    }\n",
       "\n",
       "    .dataframe thead th {\n",
       "        text-align: right;\n",
       "    }\n",
       "</style>\n",
       "<table border=\"1\" class=\"dataframe\">\n",
       "  <thead>\n",
       "    <tr style=\"text-align: right;\">\n",
       "      <th></th>\n",
       "      <th>param_2</th>\n",
       "      <th>model_name</th>\n",
       "      <th>x_travel</th>\n",
       "      <th>y_travel</th>\n",
       "      <th>z_travel</th>\n",
       "    </tr>\n",
       "  </thead>\n",
       "  <tbody>\n",
       "    <tr>\n",
       "      <th>0</th>\n",
       "      <td>Vertical Machining Centers</td>\n",
       "      <td>430 V</td>\n",
       "      <td>400</td>\n",
       "      <td>300</td>\n",
       "      <td>400</td>\n",
       "    </tr>\n",
       "    <tr>\n",
       "      <th>1</th>\n",
       "      <td>Vertical Machining Centers</td>\n",
       "      <td>MCV-300</td>\n",
       "      <td>400</td>\n",
       "      <td>350</td>\n",
       "      <td>320</td>\n",
       "    </tr>\n",
       "    <tr>\n",
       "      <th>2</th>\n",
       "      <td>Vertical Machining Centers</td>\n",
       "      <td>MCV-350</td>\n",
       "      <td>400</td>\n",
       "      <td>350</td>\n",
       "      <td>480</td>\n",
       "    </tr>\n",
       "    <tr>\n",
       "      <th>3</th>\n",
       "      <td>Vertical Machining Centers</td>\n",
       "      <td>SUPER WINNER</td>\n",
       "      <td>500</td>\n",
       "      <td>400</td>\n",
       "      <td>500</td>\n",
       "    </tr>\n",
       "  </tbody>\n",
       "</table>\n",
       "</div>"
      ],
      "text/plain": [
       "                      param_2    model_name x_travel y_travel z_travel\n",
       "0  Vertical Machining Centers         430 V     400      300       400\n",
       "1  Vertical Machining Centers       MCV-300     400      350       320\n",
       "2  Vertical Machining Centers       MCV-350     400      350       480\n",
       "3  Vertical Machining Centers  SUPER WINNER     500      400       500"
      ]
     },
     "execution_count": 49,
     "metadata": {},
     "output_type": "execute_result"
    }
   ],
   "source": [
    "df2"
   ]
  },
  {
   "cell_type": "markdown",
   "id": "09fb0b12-8f54-4557-b536-9f64af73f548",
   "metadata": {},
   "source": [
    "# MEDIUM ----->>>"
   ]
  },
  {
   "cell_type": "code",
   "execution_count": 50,
   "id": "2c6a40e5-8c42-4907-85b0-c5f9714999bf",
   "metadata": {},
   "outputs": [],
   "source": [
    "medium = links3[1]"
   ]
  },
  {
   "cell_type": "code",
   "execution_count": 51,
   "id": "bac35df1-2843-418e-aee2-b9f3f24140a9",
   "metadata": {},
   "outputs": [
    {
     "data": {
      "text/plain": [
       "'https://www.acemicromatic.net/product_cat/medium/'"
      ]
     },
     "execution_count": 51,
     "metadata": {},
     "output_type": "execute_result"
    }
   ],
   "source": [
    "medium"
   ]
  },
  {
   "cell_type": "code",
   "execution_count": 52,
   "id": "4dd9f56b-4f56-4c00-beda-8d1b46581f3c",
   "metadata": {},
   "outputs": [],
   "source": [
    "nw_m = requests.get(medium, headers=headers)"
   ]
  },
  {
   "cell_type": "code",
   "execution_count": 53,
   "id": "df7102ec-01d6-475b-a38f-fe89279b956d",
   "metadata": {},
   "outputs": [],
   "source": [
    "soup_m=BeautifulSoup(nw_m.content,'html.parser')"
   ]
  },
  {
   "cell_type": "code",
   "execution_count": 54,
   "id": "4af2c75f-051e-4f56-b2bd-a0f923a3cbd0",
   "metadata": {},
   "outputs": [],
   "source": [
    "pd_names = [j.text for i in soup_m.find_all(class_='content') for j in i.find_all('h4')]"
   ]
  },
  {
   "cell_type": "code",
   "execution_count": 55,
   "id": "80bc1847-56a5-4a80-83b7-e193f0e5bd47",
   "metadata": {},
   "outputs": [
    {
     "data": {
      "text/plain": [
       "['MCV-400',\n",
       " 'MCV-400F',\n",
       " 'MCV-400 XL',\n",
       " 'MCV-450',\n",
       " 'MCV-450 XL',\n",
       " 'ACER',\n",
       " 'ACER XL']"
      ]
     },
     "execution_count": 55,
     "metadata": {},
     "output_type": "execute_result"
    }
   ],
   "source": [
    "pd_names"
   ]
  },
  {
   "cell_type": "code",
   "execution_count": 56,
   "id": "decb0ed9-bfd0-451e-8da5-1faeb3ab9358",
   "metadata": {},
   "outputs": [],
   "source": [
    "links_m = [j.get('href') for i in soup_m.find_all(class_='button-wrapper') for j in i.find_all('a')]"
   ]
  },
  {
   "cell_type": "code",
   "execution_count": 57,
   "id": "8146bcb8-6e26-46b7-8626-89ee29b7e3d1",
   "metadata": {},
   "outputs": [
    {
     "data": {
      "text/plain": [
       "['https://www.acemicromatic.net/aceproduct/mcv-400/',\n",
       " 'https://www.acemicromatic.net/aceproduct/mcv-400f/',\n",
       " 'https://www.acemicromatic.net/aceproduct/mcv-400-xl/',\n",
       " 'https://www.acemicromatic.net/aceproduct/mcv-450/',\n",
       " 'https://www.acemicromatic.net/aceproduct/mcv-450-xl/',\n",
       " 'https://www.acemicromatic.net/aceproduct/acer/',\n",
       " 'https://www.acemicromatic.net/aceproduct/acer-xl/']"
      ]
     },
     "execution_count": 57,
     "metadata": {},
     "output_type": "execute_result"
    }
   ],
   "source": [
    "links_m"
   ]
  },
  {
   "cell_type": "code",
   "execution_count": 58,
   "id": "604c54b6-2c9e-4f45-9f6a-81737bc89446",
   "metadata": {},
   "outputs": [],
   "source": [
    "xyz2 = []\n",
    "\n",
    "for link_data in links_m:\n",
    "    nw_m = requests.get(link_data, headers=headers)\n",
    "    soup_m=BeautifulSoup(nw_m.content,'html.parser')\n",
    "    table = soup_m.find('table')\n",
    "    table_data = [[cell.text.strip() for cell in row.find_all('td')] for row in table.find_all('tr')]\n",
    "    xyz2.append(table_data[6][-1])"
   ]
  },
  {
   "cell_type": "code",
   "execution_count": 59,
   "id": "74d2223c-60c0-4bae-9a87-79e13674abbf",
   "metadata": {},
   "outputs": [],
   "source": [
    "travels_m = []\n",
    "for i in range(len(xyz2)):\n",
    "    travels_m.append(xyz2[i].split('/'))\n",
    "\n",
    "x_travel = [row[0] for row in travels_m]\n",
    "y_travel = [row[1] for row in travels_m]\n",
    "z_travel = [row[2] for row in travels_m]\n",
    "param_2 = []\n",
    "for i in range(len(x_travel)):\n",
    "    param_2.append('Vertical Machining Centers')\n",
    "\n",
    "df3 = pd.DataFrame({'param_2': param_2, 'model_name': pd_names, 'x_travel':x_travel , 'y_travel':y_travel,'z_travel':z_travel})"
   ]
  },
  {
   "cell_type": "code",
   "execution_count": 60,
   "id": "cf50d085-4585-43bd-8b5d-c3117fc5a0e1",
   "metadata": {},
   "outputs": [
    {
     "data": {
      "text/html": [
       "<div>\n",
       "<style scoped>\n",
       "    .dataframe tbody tr th:only-of-type {\n",
       "        vertical-align: middle;\n",
       "    }\n",
       "\n",
       "    .dataframe tbody tr th {\n",
       "        vertical-align: top;\n",
       "    }\n",
       "\n",
       "    .dataframe thead th {\n",
       "        text-align: right;\n",
       "    }\n",
       "</style>\n",
       "<table border=\"1\" class=\"dataframe\">\n",
       "  <thead>\n",
       "    <tr style=\"text-align: right;\">\n",
       "      <th></th>\n",
       "      <th>param_2</th>\n",
       "      <th>model_name</th>\n",
       "      <th>x_travel</th>\n",
       "      <th>y_travel</th>\n",
       "      <th>z_travel</th>\n",
       "    </tr>\n",
       "  </thead>\n",
       "  <tbody>\n",
       "    <tr>\n",
       "      <th>0</th>\n",
       "      <td>Vertical Machining Centers</td>\n",
       "      <td>MCV-400</td>\n",
       "      <td>600</td>\n",
       "      <td>450</td>\n",
       "      <td>500</td>\n",
       "    </tr>\n",
       "    <tr>\n",
       "      <th>1</th>\n",
       "      <td>Vertical Machining Centers</td>\n",
       "      <td>MCV-400F</td>\n",
       "      <td>600</td>\n",
       "      <td>450</td>\n",
       "      <td>500</td>\n",
       "    </tr>\n",
       "    <tr>\n",
       "      <th>2</th>\n",
       "      <td>Vertical Machining Centers</td>\n",
       "      <td>MCV-400 XL</td>\n",
       "      <td>600</td>\n",
       "      <td>450</td>\n",
       "      <td>500</td>\n",
       "    </tr>\n",
       "    <tr>\n",
       "      <th>3</th>\n",
       "      <td>Vertical Machining Centers</td>\n",
       "      <td>MCV-450</td>\n",
       "      <td>800</td>\n",
       "      <td>450</td>\n",
       "      <td>500</td>\n",
       "    </tr>\n",
       "    <tr>\n",
       "      <th>4</th>\n",
       "      <td>Vertical Machining Centers</td>\n",
       "      <td>MCV-450 XL</td>\n",
       "      <td>800</td>\n",
       "      <td>450</td>\n",
       "      <td>500</td>\n",
       "    </tr>\n",
       "    <tr>\n",
       "      <th>5</th>\n",
       "      <td>Vertical Machining Centers</td>\n",
       "      <td>ACER</td>\n",
       "      <td>800</td>\n",
       "      <td>510</td>\n",
       "      <td>500</td>\n",
       "    </tr>\n",
       "    <tr>\n",
       "      <th>6</th>\n",
       "      <td>Vertical Machining Centers</td>\n",
       "      <td>ACER XL</td>\n",
       "      <td>800</td>\n",
       "      <td>510</td>\n",
       "      <td>500</td>\n",
       "    </tr>\n",
       "  </tbody>\n",
       "</table>\n",
       "</div>"
      ],
      "text/plain": [
       "                      param_2  model_name x_travel y_travel z_travel\n",
       "0  Vertical Machining Centers     MCV-400     600      450       500\n",
       "1  Vertical Machining Centers    MCV-400F     600      450       500\n",
       "2  Vertical Machining Centers  MCV-400 XL     600      450       500\n",
       "3  Vertical Machining Centers     MCV-450     800      450       500\n",
       "4  Vertical Machining Centers  MCV-450 XL     800      450       500\n",
       "5  Vertical Machining Centers        ACER     800      510       500\n",
       "6  Vertical Machining Centers     ACER XL     800      510       500"
      ]
     },
     "execution_count": 60,
     "metadata": {},
     "output_type": "execute_result"
    }
   ],
   "source": [
    "df3"
   ]
  },
  {
   "cell_type": "markdown",
   "id": "c3cfd3a6-35f1-49c1-b9e7-d2a17248d06f",
   "metadata": {},
   "source": [
    "# LARGE ----->>>"
   ]
  },
  {
   "cell_type": "code",
   "execution_count": 61,
   "id": "71f7b21b-1ed9-4c3c-bce1-84278e46739d",
   "metadata": {},
   "outputs": [],
   "source": [
    "large = links3[2]"
   ]
  },
  {
   "cell_type": "code",
   "execution_count": 62,
   "id": "340ddfc9-82f9-4e8d-9bf1-08173a4def6d",
   "metadata": {},
   "outputs": [
    {
     "data": {
      "text/plain": [
       "'https://www.acemicromatic.net/product_cat/large/'"
      ]
     },
     "execution_count": 62,
     "metadata": {},
     "output_type": "execute_result"
    }
   ],
   "source": [
    "large"
   ]
  },
  {
   "cell_type": "code",
   "execution_count": 63,
   "id": "fa4d343c-be81-45b4-874a-3eae9a3723f9",
   "metadata": {},
   "outputs": [],
   "source": [
    "nw_l = requests.get(large, headers=headers)\n",
    "soup_l=BeautifulSoup(nw_l.content,'html.parser')\n"
   ]
  },
  {
   "cell_type": "code",
   "execution_count": 64,
   "id": "dc75bc26-37d5-4ddf-a06b-776e880e1d50",
   "metadata": {},
   "outputs": [],
   "source": [
    "pd_names = [j.text for i in soup_l.find_all(class_='content') for j in i.find_all('h4')]\n",
    "links_l = [j.get('href') for i in soup_l.find_all(class_='button-wrapper') for j in i.find_all('a')]"
   ]
  },
  {
   "cell_type": "code",
   "execution_count": 65,
   "id": "7e927658-dad7-4719-ac1b-ea265ad07b05",
   "metadata": {},
   "outputs": [],
   "source": [
    "xyz_l = []\n",
    "\n",
    "for link_data in links_l:\n",
    "    nw_l = requests.get(link_data, headers=headers)\n",
    "    soup_l=BeautifulSoup(nw_l.content,'html.parser')\n",
    "    table = soup_l.find('table')\n",
    "    table_data = [[cell.text.strip() for cell in row.find_all('td')] for row in table.find_all('tr')]\n",
    "    xyz_l.append(table_data[6][-1])"
   ]
  },
  {
   "cell_type": "code",
   "execution_count": 66,
   "id": "6e025e4f-c5ab-4ffd-8266-e7f440d96184",
   "metadata": {},
   "outputs": [
    {
     "data": {
      "text/plain": [
       "['1000 / 550 / 550',\n",
       " '1020 / 650 / 600',\n",
       " '1500 / 700 / 700',\n",
       " '1250 / 700 / 600',\n",
       " '1500 / 700 / 600',\n",
       " '2000 / 810 / 810']"
      ]
     },
     "execution_count": 66,
     "metadata": {},
     "output_type": "execute_result"
    }
   ],
   "source": [
    "xyz_l"
   ]
  },
  {
   "cell_type": "code",
   "execution_count": 67,
   "id": "aab66c80-ba9a-471a-b885-f912fbc0a183",
   "metadata": {},
   "outputs": [],
   "source": [
    "travels_l = []\n",
    "for i in range(len(xyz_l)):\n",
    "    travels_l.append(xyz_l[i].split('/'))"
   ]
  },
  {
   "cell_type": "code",
   "execution_count": 68,
   "id": "d51b71cc-fd9f-4d21-9f7d-a2daa542dddf",
   "metadata": {},
   "outputs": [],
   "source": [
    "x_travel = [row[0] for row in travels_l]\n",
    "y_travel = [row[1] for row in travels_l]\n",
    "z_travel = [row[2] for row in travels_l]"
   ]
  },
  {
   "cell_type": "code",
   "execution_count": 69,
   "id": "aed0c754-82b4-4ad7-9d52-3f5454bffe9c",
   "metadata": {},
   "outputs": [],
   "source": [
    "param_2 = []\n",
    "for i in range(len(x_travel)):\n",
    "    param_2.append('Vertical Machining Centers')"
   ]
  },
  {
   "cell_type": "code",
   "execution_count": 70,
   "id": "31bc115d-17fe-4b2b-82c2-b33e3c50aaab",
   "metadata": {},
   "outputs": [],
   "source": [
    "df4 = pd.DataFrame({'param_2': param_2, 'model_name': pd_names, 'x_travel':x_travel , 'y_travel':y_travel,'z_travel':z_travel})"
   ]
  },
  {
   "cell_type": "code",
   "execution_count": 71,
   "id": "d72400a3-6baf-4617-a933-c1d1bb01201e",
   "metadata": {},
   "outputs": [
    {
     "data": {
      "text/html": [
       "<div>\n",
       "<style scoped>\n",
       "    .dataframe tbody tr th:only-of-type {\n",
       "        vertical-align: middle;\n",
       "    }\n",
       "\n",
       "    .dataframe tbody tr th {\n",
       "        vertical-align: top;\n",
       "    }\n",
       "\n",
       "    .dataframe thead th {\n",
       "        text-align: right;\n",
       "    }\n",
       "</style>\n",
       "<table border=\"1\" class=\"dataframe\">\n",
       "  <thead>\n",
       "    <tr style=\"text-align: right;\">\n",
       "      <th></th>\n",
       "      <th>param_2</th>\n",
       "      <th>model_name</th>\n",
       "      <th>x_travel</th>\n",
       "      <th>y_travel</th>\n",
       "      <th>z_travel</th>\n",
       "    </tr>\n",
       "  </thead>\n",
       "  <tbody>\n",
       "    <tr>\n",
       "      <th>0</th>\n",
       "      <td>Vertical Machining Centers</td>\n",
       "      <td>MCV-550L</td>\n",
       "      <td>1000</td>\n",
       "      <td>550</td>\n",
       "      <td>550</td>\n",
       "    </tr>\n",
       "    <tr>\n",
       "      <th>1</th>\n",
       "      <td>Vertical Machining Centers</td>\n",
       "      <td>MCV-650</td>\n",
       "      <td>1020</td>\n",
       "      <td>650</td>\n",
       "      <td>600</td>\n",
       "    </tr>\n",
       "    <tr>\n",
       "      <th>2</th>\n",
       "      <td>Vertical Machining Centers</td>\n",
       "      <td>MCV-700</td>\n",
       "      <td>1500</td>\n",
       "      <td>700</td>\n",
       "      <td>700</td>\n",
       "    </tr>\n",
       "    <tr>\n",
       "      <th>3</th>\n",
       "      <td>Vertical Machining Centers</td>\n",
       "      <td>MCV-700N</td>\n",
       "      <td>1250</td>\n",
       "      <td>700</td>\n",
       "      <td>600</td>\n",
       "    </tr>\n",
       "    <tr>\n",
       "      <th>4</th>\n",
       "      <td>Vertical Machining Centers</td>\n",
       "      <td>MCV-700N L</td>\n",
       "      <td>1500</td>\n",
       "      <td>700</td>\n",
       "      <td>600</td>\n",
       "    </tr>\n",
       "    <tr>\n",
       "      <th>5</th>\n",
       "      <td>Vertical Machining Centers</td>\n",
       "      <td>MCV-800</td>\n",
       "      <td>2000</td>\n",
       "      <td>810</td>\n",
       "      <td>810</td>\n",
       "    </tr>\n",
       "  </tbody>\n",
       "</table>\n",
       "</div>"
      ],
      "text/plain": [
       "                      param_2  model_name x_travel y_travel z_travel\n",
       "0  Vertical Machining Centers    MCV-550L    1000      550       550\n",
       "1  Vertical Machining Centers     MCV-650    1020      650       600\n",
       "2  Vertical Machining Centers     MCV-700    1500      700       700\n",
       "3  Vertical Machining Centers    MCV-700N    1250      700       600\n",
       "4  Vertical Machining Centers  MCV-700N L    1500      700       600\n",
       "5  Vertical Machining Centers     MCV-800    2000      810       810"
      ]
     },
     "execution_count": 71,
     "metadata": {},
     "output_type": "execute_result"
    }
   ],
   "source": [
    "df4"
   ]
  },
  {
   "cell_type": "markdown",
   "id": "8b9e2c92-2945-4fb8-95bb-a3783ba8af76",
   "metadata": {},
   "source": [
    "#   V Series ------>>>"
   ]
  },
  {
   "cell_type": "code",
   "execution_count": 72,
   "id": "7b6342e5-39c1-4049-a817-de28790b162f",
   "metadata": {},
   "outputs": [],
   "source": [
    "v_s = links3[3]"
   ]
  },
  {
   "cell_type": "code",
   "execution_count": 73,
   "id": "39502334-0967-406f-9927-de8c67f8e4f6",
   "metadata": {},
   "outputs": [
    {
     "data": {
      "text/plain": [
       "'https://www.acemicromatic.net/product_cat/v-series/'"
      ]
     },
     "execution_count": 73,
     "metadata": {},
     "output_type": "execute_result"
    }
   ],
   "source": [
    "v_s"
   ]
  },
  {
   "cell_type": "code",
   "execution_count": 74,
   "id": "8b00e9f9-e703-4d8c-8284-945d615c6db2",
   "metadata": {},
   "outputs": [],
   "source": [
    "nw_v = requests.get(v_s, headers=headers)\n",
    "soup_v=BeautifulSoup(nw_v.content,'html.parser')"
   ]
  },
  {
   "cell_type": "code",
   "execution_count": 75,
   "id": "25983334-1cce-4988-b68d-32a583b4d997",
   "metadata": {},
   "outputs": [],
   "source": [
    "pd_names = [j.text for i in soup_v.find_all(class_='content') for j in i.find_all('h4')]\n",
    "links_v = [j.get('href') for i in soup_v.find_all(class_='button-wrapper') for j in i.find_all('a')]"
   ]
  },
  {
   "cell_type": "code",
   "execution_count": 76,
   "id": "aadff109-8cf2-4899-a7b9-f672f712fa09",
   "metadata": {},
   "outputs": [],
   "source": [
    "xyz_v = []\n",
    "\n",
    "for link_data in links_v:\n",
    "    nw_v = requests.get(link_data, headers=headers)\n",
    "    soup_v=BeautifulSoup(nw_v.content,'html.parser')\n",
    "    table = soup_v.find('table')\n",
    "    table_data = [[cell.text.strip() for cell in row.find_all('td')] for row in table.find_all('tr')]\n",
    "    xyz_v.append(table_data[6][-1])"
   ]
  },
  {
   "cell_type": "code",
   "execution_count": 77,
   "id": "d977ef7a-a3f8-4f29-9a6c-753d0b065858",
   "metadata": {},
   "outputs": [
    {
     "data": {
      "text/plain": [
       "['500 / 400 / 450',\n",
       " '750 / 300 / 400',\n",
       " '700 / 400 / 460',\n",
       " '760 / 425 / 470',\n",
       " '800 / 510 / 500',\n",
       " '1000 / 600 / 600',\n",
       " '1250 / 600 / 600',\n",
       " '1500 / 800 / 600',\n",
       " '1630 / 910 / 810']"
      ]
     },
     "execution_count": 77,
     "metadata": {},
     "output_type": "execute_result"
    }
   ],
   "source": [
    "xyz_v"
   ]
  },
  {
   "cell_type": "code",
   "execution_count": 78,
   "id": "7723b325-fa8b-4e0b-a170-7af4545f3827",
   "metadata": {},
   "outputs": [],
   "source": [
    "travels_v = []\n",
    "for i in range(len(xyz_v)):\n",
    "    travels_v.append(xyz_v[i].split('/'))"
   ]
  },
  {
   "cell_type": "code",
   "execution_count": 79,
   "id": "8feb1993-130a-4abf-be7f-5a0211a7ffd0",
   "metadata": {},
   "outputs": [],
   "source": [
    "x_travel = [row[0] for row in travels_v]\n",
    "y_travel = [row[1] for row in travels_v]\n",
    "z_travel = [row[2] for row in travels_v]"
   ]
  },
  {
   "cell_type": "code",
   "execution_count": 80,
   "id": "b1a4aba8-87d3-41a6-8e22-ba1f575685d7",
   "metadata": {},
   "outputs": [],
   "source": [
    "param_2 = []\n",
    "for i in range(len(x_travel)):\n",
    "    param_2.append('Vertical Machining Centers')"
   ]
  },
  {
   "cell_type": "code",
   "execution_count": 81,
   "id": "fde82b6f-c11a-4324-81c2-3f4094ad659e",
   "metadata": {},
   "outputs": [],
   "source": [
    "df5 = pd.DataFrame({'param_2': param_2, 'model_name': pd_names, 'x_travel':x_travel , 'y_travel':y_travel,'z_travel':z_travel})"
   ]
  },
  {
   "cell_type": "code",
   "execution_count": 82,
   "id": "d3a7fd78-8541-4d22-be2a-c5ec3209d6d3",
   "metadata": {},
   "outputs": [
    {
     "data": {
      "text/html": [
       "<div>\n",
       "<style scoped>\n",
       "    .dataframe tbody tr th:only-of-type {\n",
       "        vertical-align: middle;\n",
       "    }\n",
       "\n",
       "    .dataframe tbody tr th {\n",
       "        vertical-align: top;\n",
       "    }\n",
       "\n",
       "    .dataframe thead th {\n",
       "        text-align: right;\n",
       "    }\n",
       "</style>\n",
       "<table border=\"1\" class=\"dataframe\">\n",
       "  <thead>\n",
       "    <tr style=\"text-align: right;\">\n",
       "      <th></th>\n",
       "      <th>param_2</th>\n",
       "      <th>model_name</th>\n",
       "      <th>x_travel</th>\n",
       "      <th>y_travel</th>\n",
       "      <th>z_travel</th>\n",
       "    </tr>\n",
       "  </thead>\n",
       "  <tbody>\n",
       "    <tr>\n",
       "      <th>0</th>\n",
       "      <td>Vertical Machining Centers</td>\n",
       "      <td>540V</td>\n",
       "      <td>500</td>\n",
       "      <td>400</td>\n",
       "      <td>450</td>\n",
       "    </tr>\n",
       "    <tr>\n",
       "      <th>1</th>\n",
       "      <td>Vertical Machining Centers</td>\n",
       "      <td>730V</td>\n",
       "      <td>750</td>\n",
       "      <td>300</td>\n",
       "      <td>400</td>\n",
       "    </tr>\n",
       "    <tr>\n",
       "      <th>2</th>\n",
       "      <td>Vertical Machining Centers</td>\n",
       "      <td>740V</td>\n",
       "      <td>700</td>\n",
       "      <td>400</td>\n",
       "      <td>460</td>\n",
       "    </tr>\n",
       "    <tr>\n",
       "      <th>3</th>\n",
       "      <td>Vertical Machining Centers</td>\n",
       "      <td>740V DM</td>\n",
       "      <td>760</td>\n",
       "      <td>425</td>\n",
       "      <td>470</td>\n",
       "    </tr>\n",
       "    <tr>\n",
       "      <th>4</th>\n",
       "      <td>Vertical Machining Centers</td>\n",
       "      <td>850V</td>\n",
       "      <td>800</td>\n",
       "      <td>510</td>\n",
       "      <td>500</td>\n",
       "    </tr>\n",
       "    <tr>\n",
       "      <th>5</th>\n",
       "      <td>Vertical Machining Centers</td>\n",
       "      <td>1060V</td>\n",
       "      <td>1000</td>\n",
       "      <td>600</td>\n",
       "      <td>600</td>\n",
       "    </tr>\n",
       "    <tr>\n",
       "      <th>6</th>\n",
       "      <td>Vertical Machining Centers</td>\n",
       "      <td>1260V</td>\n",
       "      <td>1250</td>\n",
       "      <td>600</td>\n",
       "      <td>600</td>\n",
       "    </tr>\n",
       "    <tr>\n",
       "      <th>7</th>\n",
       "      <td>Vertical Machining Centers</td>\n",
       "      <td>1580V</td>\n",
       "      <td>1500</td>\n",
       "      <td>800</td>\n",
       "      <td>600</td>\n",
       "    </tr>\n",
       "    <tr>\n",
       "      <th>8</th>\n",
       "      <td>Vertical Machining Centers</td>\n",
       "      <td>1690V</td>\n",
       "      <td>1630</td>\n",
       "      <td>910</td>\n",
       "      <td>810</td>\n",
       "    </tr>\n",
       "  </tbody>\n",
       "</table>\n",
       "</div>"
      ],
      "text/plain": [
       "                      param_2 model_name x_travel y_travel z_travel\n",
       "0  Vertical Machining Centers       540V     500      400       450\n",
       "1  Vertical Machining Centers       730V     750      300       400\n",
       "2  Vertical Machining Centers       740V     700      400       460\n",
       "3  Vertical Machining Centers    740V DM     760      425       470\n",
       "4  Vertical Machining Centers       850V     800      510       500\n",
       "5  Vertical Machining Centers      1060V    1000      600       600\n",
       "6  Vertical Machining Centers      1260V    1250      600       600\n",
       "7  Vertical Machining Centers      1580V    1500      800       600\n",
       "8  Vertical Machining Centers      1690V    1630      910       810"
      ]
     },
     "execution_count": 82,
     "metadata": {},
     "output_type": "execute_result"
    }
   ],
   "source": [
    "df5"
   ]
  },
  {
   "cell_type": "markdown",
   "id": "bd43bda3-74f9-40dd-9b09-f635db665b1f",
   "metadata": {},
   "source": [
    "# Heavy Duty ------>>>"
   ]
  },
  {
   "cell_type": "code",
   "execution_count": 83,
   "id": "74c8a83f-7689-4f57-bc91-6006110998e2",
   "metadata": {},
   "outputs": [],
   "source": [
    "h_d = links3[4]"
   ]
  },
  {
   "cell_type": "code",
   "execution_count": 84,
   "id": "b3e60c14-6013-4b96-a729-666770300085",
   "metadata": {},
   "outputs": [
    {
     "data": {
      "text/plain": [
       "'https://www.acemicromatic.net/product_cat/heavy-duty/'"
      ]
     },
     "execution_count": 84,
     "metadata": {},
     "output_type": "execute_result"
    }
   ],
   "source": [
    "h_d"
   ]
  },
  {
   "cell_type": "code",
   "execution_count": 85,
   "id": "364a98df-298c-4f52-8d7d-85a9c3b28ebf",
   "metadata": {},
   "outputs": [],
   "source": [
    "nw_h = requests.get(h_d, headers=headers)\n",
    "soup_h=BeautifulSoup(nw_h.content,'html.parser')"
   ]
  },
  {
   "cell_type": "code",
   "execution_count": 86,
   "id": "6c292a80-b438-45be-aae1-ea70e6a7388a",
   "metadata": {},
   "outputs": [],
   "source": [
    "pd_names = [j.text for i in soup_h.find_all(class_='content') for j in i.find_all('h4')]\n",
    "links_h = [j.get('href') for i in soup_h.find_all(class_='button-wrapper') for j in i.find_all('a')]"
   ]
  },
  {
   "cell_type": "code",
   "execution_count": 144,
   "id": "6a413dde-6937-490d-b969-97e570e296a1",
   "metadata": {},
   "outputs": [],
   "source": [
    "xyz_h = []\n",
    "\n",
    "for link_data in links_h:\n",
    "    nw_h = requests.get(link_data, headers=headers)\n",
    "    soup_h=BeautifulSoup(nw_h.content,'html.parser')\n",
    "    table = soup_h.find('table')\n",
    "    table_data = [[cell.text.strip() for cell in row.find_all('td')] for row in table.find_all('tr')]\n",
    "    xyz_h.append(table_data[6][-1])"
   ]
  },
  {
   "cell_type": "code",
   "execution_count": 145,
   "id": "b69d0b06-a7ce-4343-9cb8-36a6801a8298",
   "metadata": {},
   "outputs": [
    {
     "data": {
      "text/plain": [
       "['800 / 510 / 500',\n",
       " '1000 / 550 / 550',\n",
       " '1020 / 650 / 600',\n",
       " '1250 / 700 / 600',\n",
       " '1500 / 700 / 600',\n",
       " '1500 / 700 / 700',\n",
       " '2000 / 810 / 810']"
      ]
     },
     "execution_count": 145,
     "metadata": {},
     "output_type": "execute_result"
    }
   ],
   "source": [
    "xyz_h"
   ]
  },
  {
   "cell_type": "code",
   "execution_count": 89,
   "id": "65e8c745-ed51-43f2-af4a-6ba5a47197e5",
   "metadata": {},
   "outputs": [],
   "source": [
    "travels_h = []\n",
    "for i in range(len(xyz_h)):\n",
    "    travels_h.append(xyz_h[i].split('/'))"
   ]
  },
  {
   "cell_type": "code",
   "execution_count": 90,
   "id": "3a9a7fff-d8ed-40dc-9db6-ccd6032d06cc",
   "metadata": {},
   "outputs": [],
   "source": [
    "x_travel = [row[0] for row in travels_h]\n",
    "y_travel = [row[1] for row in travels_h]\n",
    "z_travel = [row[2] for row in travels_h]"
   ]
  },
  {
   "cell_type": "code",
   "execution_count": 91,
   "id": "72aa45b1-ea84-4cc5-931b-af95d3748fd8",
   "metadata": {},
   "outputs": [],
   "source": [
    "param_2 = []\n",
    "for i in range(len(x_travel)):\n",
    "    param_2.append('Vertical Machining Centers')"
   ]
  },
  {
   "cell_type": "code",
   "execution_count": 92,
   "id": "90db761f-fa56-4d7c-a501-57e325f1cb40",
   "metadata": {},
   "outputs": [],
   "source": [
    "df6 = pd.DataFrame({'param_2': param_2, 'model_name': pd_names, 'x_travel':x_travel , 'y_travel':y_travel,'z_travel':z_travel})"
   ]
  },
  {
   "cell_type": "code",
   "execution_count": 93,
   "id": "54ad8803-e0e0-4f21-8d1a-eb1690cf4d2d",
   "metadata": {},
   "outputs": [
    {
     "data": {
      "text/html": [
       "<div>\n",
       "<style scoped>\n",
       "    .dataframe tbody tr th:only-of-type {\n",
       "        vertical-align: middle;\n",
       "    }\n",
       "\n",
       "    .dataframe tbody tr th {\n",
       "        vertical-align: top;\n",
       "    }\n",
       "\n",
       "    .dataframe thead th {\n",
       "        text-align: right;\n",
       "    }\n",
       "</style>\n",
       "<table border=\"1\" class=\"dataframe\">\n",
       "  <thead>\n",
       "    <tr style=\"text-align: right;\">\n",
       "      <th></th>\n",
       "      <th>param_2</th>\n",
       "      <th>model_name</th>\n",
       "      <th>x_travel</th>\n",
       "      <th>y_travel</th>\n",
       "      <th>z_travel</th>\n",
       "    </tr>\n",
       "  </thead>\n",
       "  <tbody>\n",
       "    <tr>\n",
       "      <th>0</th>\n",
       "      <td>Vertical Machining Centers</td>\n",
       "      <td>ACER-50</td>\n",
       "      <td>800</td>\n",
       "      <td>510</td>\n",
       "      <td>500</td>\n",
       "    </tr>\n",
       "    <tr>\n",
       "      <th>1</th>\n",
       "      <td>Vertical Machining Centers</td>\n",
       "      <td>MCV-550L-50</td>\n",
       "      <td>1000</td>\n",
       "      <td>550</td>\n",
       "      <td>550</td>\n",
       "    </tr>\n",
       "    <tr>\n",
       "      <th>2</th>\n",
       "      <td>Vertical Machining Centers</td>\n",
       "      <td>MCV-650-50</td>\n",
       "      <td>1020</td>\n",
       "      <td>650</td>\n",
       "      <td>600</td>\n",
       "    </tr>\n",
       "    <tr>\n",
       "      <th>3</th>\n",
       "      <td>Vertical Machining Centers</td>\n",
       "      <td>MCV-700N-50</td>\n",
       "      <td>1250</td>\n",
       "      <td>700</td>\n",
       "      <td>600</td>\n",
       "    </tr>\n",
       "    <tr>\n",
       "      <th>4</th>\n",
       "      <td>Vertical Machining Centers</td>\n",
       "      <td>MCV-700N L-50</td>\n",
       "      <td>1500</td>\n",
       "      <td>700</td>\n",
       "      <td>600</td>\n",
       "    </tr>\n",
       "    <tr>\n",
       "      <th>5</th>\n",
       "      <td>Vertical Machining Centers</td>\n",
       "      <td>MCV-700-50</td>\n",
       "      <td>1500</td>\n",
       "      <td>700</td>\n",
       "      <td>700</td>\n",
       "    </tr>\n",
       "    <tr>\n",
       "      <th>6</th>\n",
       "      <td>Vertical Machining Centers</td>\n",
       "      <td>MCV-800-50</td>\n",
       "      <td>2000</td>\n",
       "      <td>810</td>\n",
       "      <td>810</td>\n",
       "    </tr>\n",
       "  </tbody>\n",
       "</table>\n",
       "</div>"
      ],
      "text/plain": [
       "                      param_2     model_name x_travel y_travel z_travel\n",
       "0  Vertical Machining Centers        ACER-50     800      510       500\n",
       "1  Vertical Machining Centers    MCV-550L-50    1000      550       550\n",
       "2  Vertical Machining Centers     MCV-650-50    1020      650       600\n",
       "3  Vertical Machining Centers    MCV-700N-50    1250      700       600\n",
       "4  Vertical Machining Centers  MCV-700N L-50    1500      700       600\n",
       "5  Vertical Machining Centers     MCV-700-50    1500      700       700\n",
       "6  Vertical Machining Centers     MCV-800-50    2000      810       810"
      ]
     },
     "execution_count": 93,
     "metadata": {},
     "output_type": "execute_result"
    }
   ],
   "source": [
    "df6"
   ]
  },
  {
   "cell_type": "code",
   "execution_count": 94,
   "id": "041e7b01-65ab-4c07-8756-ff48256cea96",
   "metadata": {},
   "outputs": [],
   "source": [
    "c_df = pd.concat([df1, df2,df3,df4,df5,df6], axis=0)\n",
    "c_df = c_df.reset_index(drop=True)"
   ]
  },
  {
   "cell_type": "code",
   "execution_count": 95,
   "id": "57f279bc-a74c-4423-bc1c-cb5c030d8265",
   "metadata": {},
   "outputs": [
    {
     "data": {
      "text/html": [
       "<div>\n",
       "<style scoped>\n",
       "    .dataframe tbody tr th:only-of-type {\n",
       "        vertical-align: middle;\n",
       "    }\n",
       "\n",
       "    .dataframe tbody tr th {\n",
       "        vertical-align: top;\n",
       "    }\n",
       "\n",
       "    .dataframe thead th {\n",
       "        text-align: right;\n",
       "    }\n",
       "</style>\n",
       "<table border=\"1\" class=\"dataframe\">\n",
       "  <thead>\n",
       "    <tr style=\"text-align: right;\">\n",
       "      <th></th>\n",
       "      <th>param_2</th>\n",
       "      <th>model_name</th>\n",
       "      <th>x_travel</th>\n",
       "      <th>y_travel</th>\n",
       "      <th>z_travel</th>\n",
       "    </tr>\n",
       "  </thead>\n",
       "  <tbody>\n",
       "    <tr>\n",
       "      <th>0</th>\n",
       "      <td>Drill Tap Machining Centers</td>\n",
       "      <td>SPARK</td>\n",
       "      <td>300</td>\n",
       "      <td>250</td>\n",
       "      <td>250</td>\n",
       "    </tr>\n",
       "    <tr>\n",
       "      <th>1</th>\n",
       "      <td>Drill Tap Machining Centers</td>\n",
       "      <td>SPARK XL</td>\n",
       "      <td>400</td>\n",
       "      <td>300</td>\n",
       "      <td>250</td>\n",
       "    </tr>\n",
       "    <tr>\n",
       "      <th>2</th>\n",
       "      <td>Drill Tap Machining Centers</td>\n",
       "      <td>DTC-400</td>\n",
       "      <td>500</td>\n",
       "      <td>400</td>\n",
       "      <td>320</td>\n",
       "    </tr>\n",
       "    <tr>\n",
       "      <th>3</th>\n",
       "      <td>Drill Tap Machining Centers</td>\n",
       "      <td>DTC-400 XL</td>\n",
       "      <td>500</td>\n",
       "      <td>400</td>\n",
       "      <td>320</td>\n",
       "    </tr>\n",
       "    <tr>\n",
       "      <th>4</th>\n",
       "      <td>Drill Tap Machining Centers</td>\n",
       "      <td>DTC-400L XL</td>\n",
       "      <td>700</td>\n",
       "      <td>400</td>\n",
       "      <td>320</td>\n",
       "    </tr>\n",
       "    <tr>\n",
       "      <th>5</th>\n",
       "      <td>Drill Tap Machining Centers</td>\n",
       "      <td>DTC-500L XL</td>\n",
       "      <td>1000</td>\n",
       "      <td>400</td>\n",
       "      <td>320</td>\n",
       "    </tr>\n",
       "    <tr>\n",
       "      <th>6</th>\n",
       "      <td>Drill Tap Machining Centers</td>\n",
       "      <td>TCV-540</td>\n",
       "      <td>500</td>\n",
       "      <td>400</td>\n",
       "      <td>320</td>\n",
       "    </tr>\n",
       "    <tr>\n",
       "      <th>7</th>\n",
       "      <td>Vertical Machining Centers</td>\n",
       "      <td>430 V</td>\n",
       "      <td>400</td>\n",
       "      <td>300</td>\n",
       "      <td>400</td>\n",
       "    </tr>\n",
       "    <tr>\n",
       "      <th>8</th>\n",
       "      <td>Vertical Machining Centers</td>\n",
       "      <td>MCV-300</td>\n",
       "      <td>400</td>\n",
       "      <td>350</td>\n",
       "      <td>320</td>\n",
       "    </tr>\n",
       "    <tr>\n",
       "      <th>9</th>\n",
       "      <td>Vertical Machining Centers</td>\n",
       "      <td>MCV-350</td>\n",
       "      <td>400</td>\n",
       "      <td>350</td>\n",
       "      <td>480</td>\n",
       "    </tr>\n",
       "    <tr>\n",
       "      <th>10</th>\n",
       "      <td>Vertical Machining Centers</td>\n",
       "      <td>SUPER WINNER</td>\n",
       "      <td>500</td>\n",
       "      <td>400</td>\n",
       "      <td>500</td>\n",
       "    </tr>\n",
       "    <tr>\n",
       "      <th>11</th>\n",
       "      <td>Vertical Machining Centers</td>\n",
       "      <td>MCV-400</td>\n",
       "      <td>600</td>\n",
       "      <td>450</td>\n",
       "      <td>500</td>\n",
       "    </tr>\n",
       "    <tr>\n",
       "      <th>12</th>\n",
       "      <td>Vertical Machining Centers</td>\n",
       "      <td>MCV-400F</td>\n",
       "      <td>600</td>\n",
       "      <td>450</td>\n",
       "      <td>500</td>\n",
       "    </tr>\n",
       "    <tr>\n",
       "      <th>13</th>\n",
       "      <td>Vertical Machining Centers</td>\n",
       "      <td>MCV-400 XL</td>\n",
       "      <td>600</td>\n",
       "      <td>450</td>\n",
       "      <td>500</td>\n",
       "    </tr>\n",
       "    <tr>\n",
       "      <th>14</th>\n",
       "      <td>Vertical Machining Centers</td>\n",
       "      <td>MCV-450</td>\n",
       "      <td>800</td>\n",
       "      <td>450</td>\n",
       "      <td>500</td>\n",
       "    </tr>\n",
       "    <tr>\n",
       "      <th>15</th>\n",
       "      <td>Vertical Machining Centers</td>\n",
       "      <td>MCV-450 XL</td>\n",
       "      <td>800</td>\n",
       "      <td>450</td>\n",
       "      <td>500</td>\n",
       "    </tr>\n",
       "    <tr>\n",
       "      <th>16</th>\n",
       "      <td>Vertical Machining Centers</td>\n",
       "      <td>ACER</td>\n",
       "      <td>800</td>\n",
       "      <td>510</td>\n",
       "      <td>500</td>\n",
       "    </tr>\n",
       "    <tr>\n",
       "      <th>17</th>\n",
       "      <td>Vertical Machining Centers</td>\n",
       "      <td>ACER XL</td>\n",
       "      <td>800</td>\n",
       "      <td>510</td>\n",
       "      <td>500</td>\n",
       "    </tr>\n",
       "    <tr>\n",
       "      <th>18</th>\n",
       "      <td>Vertical Machining Centers</td>\n",
       "      <td>MCV-550L</td>\n",
       "      <td>1000</td>\n",
       "      <td>550</td>\n",
       "      <td>550</td>\n",
       "    </tr>\n",
       "    <tr>\n",
       "      <th>19</th>\n",
       "      <td>Vertical Machining Centers</td>\n",
       "      <td>MCV-650</td>\n",
       "      <td>1020</td>\n",
       "      <td>650</td>\n",
       "      <td>600</td>\n",
       "    </tr>\n",
       "    <tr>\n",
       "      <th>20</th>\n",
       "      <td>Vertical Machining Centers</td>\n",
       "      <td>MCV-700</td>\n",
       "      <td>1500</td>\n",
       "      <td>700</td>\n",
       "      <td>700</td>\n",
       "    </tr>\n",
       "    <tr>\n",
       "      <th>21</th>\n",
       "      <td>Vertical Machining Centers</td>\n",
       "      <td>MCV-700N</td>\n",
       "      <td>1250</td>\n",
       "      <td>700</td>\n",
       "      <td>600</td>\n",
       "    </tr>\n",
       "    <tr>\n",
       "      <th>22</th>\n",
       "      <td>Vertical Machining Centers</td>\n",
       "      <td>MCV-700N L</td>\n",
       "      <td>1500</td>\n",
       "      <td>700</td>\n",
       "      <td>600</td>\n",
       "    </tr>\n",
       "    <tr>\n",
       "      <th>23</th>\n",
       "      <td>Vertical Machining Centers</td>\n",
       "      <td>MCV-800</td>\n",
       "      <td>2000</td>\n",
       "      <td>810</td>\n",
       "      <td>810</td>\n",
       "    </tr>\n",
       "    <tr>\n",
       "      <th>24</th>\n",
       "      <td>Vertical Machining Centers</td>\n",
       "      <td>540V</td>\n",
       "      <td>500</td>\n",
       "      <td>400</td>\n",
       "      <td>450</td>\n",
       "    </tr>\n",
       "    <tr>\n",
       "      <th>25</th>\n",
       "      <td>Vertical Machining Centers</td>\n",
       "      <td>730V</td>\n",
       "      <td>750</td>\n",
       "      <td>300</td>\n",
       "      <td>400</td>\n",
       "    </tr>\n",
       "    <tr>\n",
       "      <th>26</th>\n",
       "      <td>Vertical Machining Centers</td>\n",
       "      <td>740V</td>\n",
       "      <td>700</td>\n",
       "      <td>400</td>\n",
       "      <td>460</td>\n",
       "    </tr>\n",
       "    <tr>\n",
       "      <th>27</th>\n",
       "      <td>Vertical Machining Centers</td>\n",
       "      <td>740V DM</td>\n",
       "      <td>760</td>\n",
       "      <td>425</td>\n",
       "      <td>470</td>\n",
       "    </tr>\n",
       "    <tr>\n",
       "      <th>28</th>\n",
       "      <td>Vertical Machining Centers</td>\n",
       "      <td>850V</td>\n",
       "      <td>800</td>\n",
       "      <td>510</td>\n",
       "      <td>500</td>\n",
       "    </tr>\n",
       "    <tr>\n",
       "      <th>29</th>\n",
       "      <td>Vertical Machining Centers</td>\n",
       "      <td>1060V</td>\n",
       "      <td>1000</td>\n",
       "      <td>600</td>\n",
       "      <td>600</td>\n",
       "    </tr>\n",
       "    <tr>\n",
       "      <th>30</th>\n",
       "      <td>Vertical Machining Centers</td>\n",
       "      <td>1260V</td>\n",
       "      <td>1250</td>\n",
       "      <td>600</td>\n",
       "      <td>600</td>\n",
       "    </tr>\n",
       "    <tr>\n",
       "      <th>31</th>\n",
       "      <td>Vertical Machining Centers</td>\n",
       "      <td>1580V</td>\n",
       "      <td>1500</td>\n",
       "      <td>800</td>\n",
       "      <td>600</td>\n",
       "    </tr>\n",
       "    <tr>\n",
       "      <th>32</th>\n",
       "      <td>Vertical Machining Centers</td>\n",
       "      <td>1690V</td>\n",
       "      <td>1630</td>\n",
       "      <td>910</td>\n",
       "      <td>810</td>\n",
       "    </tr>\n",
       "    <tr>\n",
       "      <th>33</th>\n",
       "      <td>Vertical Machining Centers</td>\n",
       "      <td>ACER-50</td>\n",
       "      <td>800</td>\n",
       "      <td>510</td>\n",
       "      <td>500</td>\n",
       "    </tr>\n",
       "    <tr>\n",
       "      <th>34</th>\n",
       "      <td>Vertical Machining Centers</td>\n",
       "      <td>MCV-550L-50</td>\n",
       "      <td>1000</td>\n",
       "      <td>550</td>\n",
       "      <td>550</td>\n",
       "    </tr>\n",
       "    <tr>\n",
       "      <th>35</th>\n",
       "      <td>Vertical Machining Centers</td>\n",
       "      <td>MCV-650-50</td>\n",
       "      <td>1020</td>\n",
       "      <td>650</td>\n",
       "      <td>600</td>\n",
       "    </tr>\n",
       "    <tr>\n",
       "      <th>36</th>\n",
       "      <td>Vertical Machining Centers</td>\n",
       "      <td>MCV-700N-50</td>\n",
       "      <td>1250</td>\n",
       "      <td>700</td>\n",
       "      <td>600</td>\n",
       "    </tr>\n",
       "    <tr>\n",
       "      <th>37</th>\n",
       "      <td>Vertical Machining Centers</td>\n",
       "      <td>MCV-700N L-50</td>\n",
       "      <td>1500</td>\n",
       "      <td>700</td>\n",
       "      <td>600</td>\n",
       "    </tr>\n",
       "    <tr>\n",
       "      <th>38</th>\n",
       "      <td>Vertical Machining Centers</td>\n",
       "      <td>MCV-700-50</td>\n",
       "      <td>1500</td>\n",
       "      <td>700</td>\n",
       "      <td>700</td>\n",
       "    </tr>\n",
       "    <tr>\n",
       "      <th>39</th>\n",
       "      <td>Vertical Machining Centers</td>\n",
       "      <td>MCV-800-50</td>\n",
       "      <td>2000</td>\n",
       "      <td>810</td>\n",
       "      <td>810</td>\n",
       "    </tr>\n",
       "  </tbody>\n",
       "</table>\n",
       "</div>"
      ],
      "text/plain": [
       "                        param_2     model_name x_travel y_travel z_travel\n",
       "0   Drill Tap Machining Centers          SPARK     300      250       250\n",
       "1   Drill Tap Machining Centers       SPARK XL     400      300       250\n",
       "2   Drill Tap Machining Centers        DTC-400     500      400       320\n",
       "3   Drill Tap Machining Centers     DTC-400 XL     500      400       320\n",
       "4   Drill Tap Machining Centers    DTC-400L XL     700      400       320\n",
       "5   Drill Tap Machining Centers    DTC-500L XL    1000      400       320\n",
       "6   Drill Tap Machining Centers        TCV-540     500      400       320\n",
       "7    Vertical Machining Centers          430 V     400      300       400\n",
       "8    Vertical Machining Centers        MCV-300     400      350       320\n",
       "9    Vertical Machining Centers        MCV-350     400      350       480\n",
       "10   Vertical Machining Centers   SUPER WINNER     500      400       500\n",
       "11   Vertical Machining Centers        MCV-400     600      450       500\n",
       "12   Vertical Machining Centers       MCV-400F     600      450       500\n",
       "13   Vertical Machining Centers     MCV-400 XL     600      450       500\n",
       "14   Vertical Machining Centers        MCV-450     800      450       500\n",
       "15   Vertical Machining Centers     MCV-450 XL     800      450       500\n",
       "16   Vertical Machining Centers           ACER     800      510       500\n",
       "17   Vertical Machining Centers        ACER XL     800      510       500\n",
       "18   Vertical Machining Centers       MCV-550L    1000      550       550\n",
       "19   Vertical Machining Centers        MCV-650    1020      650       600\n",
       "20   Vertical Machining Centers        MCV-700    1500      700       700\n",
       "21   Vertical Machining Centers       MCV-700N    1250      700       600\n",
       "22   Vertical Machining Centers     MCV-700N L    1500      700       600\n",
       "23   Vertical Machining Centers        MCV-800    2000      810       810\n",
       "24   Vertical Machining Centers           540V     500      400       450\n",
       "25   Vertical Machining Centers           730V     750      300       400\n",
       "26   Vertical Machining Centers           740V     700      400       460\n",
       "27   Vertical Machining Centers        740V DM     760      425       470\n",
       "28   Vertical Machining Centers           850V     800      510       500\n",
       "29   Vertical Machining Centers          1060V    1000      600       600\n",
       "30   Vertical Machining Centers          1260V    1250      600       600\n",
       "31   Vertical Machining Centers          1580V    1500      800       600\n",
       "32   Vertical Machining Centers          1690V    1630      910       810\n",
       "33   Vertical Machining Centers        ACER-50     800      510       500\n",
       "34   Vertical Machining Centers    MCV-550L-50    1000      550       550\n",
       "35   Vertical Machining Centers     MCV-650-50    1020      650       600\n",
       "36   Vertical Machining Centers    MCV-700N-50    1250      700       600\n",
       "37   Vertical Machining Centers  MCV-700N L-50    1500      700       600\n",
       "38   Vertical Machining Centers     MCV-700-50    1500      700       700\n",
       "39   Vertical Machining Centers     MCV-800-50    2000      810       810"
      ]
     },
     "execution_count": 95,
     "metadata": {},
     "output_type": "execute_result"
    }
   ],
   "source": [
    "c_df"
   ]
  },
  {
   "cell_type": "markdown",
   "id": "888e6f77-aca4-44f6-a7f1-00f31f8b1efb",
   "metadata": {},
   "source": [
    "# Twin Spindle VMC ---->>>"
   ]
  },
  {
   "cell_type": "code",
   "execution_count": 96,
   "id": "74067dec-2562-4262-8008-e72b0d673bb0",
   "metadata": {},
   "outputs": [],
   "source": [
    "TSVMC = links[2]"
   ]
  },
  {
   "cell_type": "code",
   "execution_count": 97,
   "id": "2e615e26-633e-40ff-b59f-66fd1371c324",
   "metadata": {},
   "outputs": [
    {
     "data": {
      "text/plain": [
       "'https://www.acemicromatic.net/product_cat/twin-spindle-vmc-geminis/'"
      ]
     },
     "execution_count": 97,
     "metadata": {},
     "output_type": "execute_result"
    }
   ],
   "source": [
    "TSVMC"
   ]
  },
  {
   "cell_type": "code",
   "execution_count": 98,
   "id": "b0f63074-e04f-4eb8-87a8-efd6cbc8806b",
   "metadata": {},
   "outputs": [],
   "source": [
    "nw_TS = requests.get(TSVMC, headers=headers)"
   ]
  },
  {
   "cell_type": "code",
   "execution_count": 99,
   "id": "214310f5-fe76-4b4c-9bb1-5213fa5c33ce",
   "metadata": {},
   "outputs": [],
   "source": [
    "soup_ts = BeautifulSoup(nw_TS.content,'html.parser')"
   ]
  },
  {
   "cell_type": "code",
   "execution_count": 100,
   "id": "68295f3f-a589-43b8-b7b6-d64fbde9163d",
   "metadata": {},
   "outputs": [],
   "source": [
    "product_names = [j.text for i in soup_ts.find_all(class_='productcat-wrapper') for j in i.find_all('h4')]"
   ]
  },
  {
   "cell_type": "code",
   "execution_count": 101,
   "id": "bdcedab1-0625-41e8-9225-f940894e5702",
   "metadata": {},
   "outputs": [
    {
     "data": {
      "text/plain": [
       "['Gemini Mini S',\n",
       " 'Gemini Mini L',\n",
       " 'Gemini Jr.',\n",
       " 'Gemini Jr. XL',\n",
       " 'CMV-350 TS',\n",
       " 'Gemini XL',\n",
       " 'Gemini 460 XL',\n",
       " 'Gemini Max']"
      ]
     },
     "execution_count": 101,
     "metadata": {},
     "output_type": "execute_result"
    }
   ],
   "source": [
    "product_names"
   ]
  },
  {
   "cell_type": "code",
   "execution_count": 102,
   "id": "5ed38565-3cb8-43c4-8738-54b2c837aff4",
   "metadata": {},
   "outputs": [],
   "source": [
    "links_ts = [j.get('href') for i in soup_ts.find_all(class_='button-wrapper') for j in i.find_all('a')]"
   ]
  },
  {
   "cell_type": "code",
   "execution_count": 103,
   "id": "9c4b266f-ac4a-48a8-96de-5313b5ecbca1",
   "metadata": {},
   "outputs": [
    {
     "data": {
      "text/plain": [
       "['https://www.acemicromatic.net/aceproduct/gemini-mini-s/',\n",
       " 'https://www.acemicromatic.net/aceproduct/gemini-mini-l/',\n",
       " 'https://www.acemicromatic.net/aceproduct/gemini-jr/',\n",
       " 'https://www.acemicromatic.net/aceproduct/gemini-jr-xl/',\n",
       " 'https://www.acemicromatic.net/aceproduct/cmv-350-ts/',\n",
       " 'https://www.acemicromatic.net/aceproduct/gemini-xl/',\n",
       " 'https://www.acemicromatic.net/aceproduct/gemini-460-xl/',\n",
       " 'https://www.acemicromatic.net/aceproduct/gemini-max/']"
      ]
     },
     "execution_count": 103,
     "metadata": {},
     "output_type": "execute_result"
    }
   ],
   "source": [
    "links_ts"
   ]
  },
  {
   "cell_type": "code",
   "execution_count": 104,
   "id": "139eab92-c863-4634-8ca1-a5ee673cfea0",
   "metadata": {},
   "outputs": [],
   "source": [
    "xyz_ts = []\n",
    "\n",
    "for link_data in links_ts:\n",
    "    if link_data != 'https://www.acemicromatic.net/aceproduct/gemini-460-xl/':\n",
    "        ts = requests.get(link_data, headers=headers)\n",
    "        sts = BeautifulSoup(ts.content,'html.parser')\n",
    "        table = sts.find('table')\n",
    "        table_data = [[cell.text.strip() for cell in row.find_all('td')] for row in table.find_all('tr')]\n",
    "        xyz_ts.append(table_data[6][-1])"
   ]
  },
  {
   "cell_type": "code",
   "execution_count": 105,
   "id": "603f1ff9-6af4-4d69-bcc8-f64c3b615ecb",
   "metadata": {},
   "outputs": [
    {
     "data": {
      "text/plain": [
       "['400 / 400 / 500',\n",
       " '600 / 450 / 500',\n",
       " '500 / 450 / 600',\n",
       " '500 / 450 / 600',\n",
       " '400 / 400 / 515',\n",
       " '600 / 450 / 600',\n",
       " '750 / 500 / 600']"
      ]
     },
     "execution_count": 105,
     "metadata": {},
     "output_type": "execute_result"
    }
   ],
   "source": [
    "xyz_ts"
   ]
  },
  {
   "cell_type": "code",
   "execution_count": 106,
   "id": "4ac56395-6b26-4ac6-b078-bfcefeb6bffa",
   "metadata": {},
   "outputs": [],
   "source": [
    "travels_ts = []\n",
    "for i in range(len(xyz_ts)):\n",
    "    travels_ts.append(xyz_ts[i].split('/'))"
   ]
  },
  {
   "cell_type": "code",
   "execution_count": 107,
   "id": "9d825fda-3bc0-4462-b708-b9cf1b2090d4",
   "metadata": {},
   "outputs": [],
   "source": [
    "x_travel = [row[0] for row in travels_ts]\n",
    "y_travel = [row[1] for row in travels_ts]\n",
    "z_travel = [row[2] for row in travels_ts]"
   ]
  },
  {
   "cell_type": "code",
   "execution_count": 108,
   "id": "0c59e75e-ee11-4648-b391-a3c8dad731c0",
   "metadata": {},
   "outputs": [],
   "source": [
    "param_2 = []\n",
    "for i in range(len(x_travel)):\n",
    "    param_2.append('Twin Spindle VMC')"
   ]
  },
  {
   "cell_type": "code",
   "execution_count": 109,
   "id": "89e6950f-f8db-4bd6-a9ba-8837ff849fda",
   "metadata": {},
   "outputs": [
    {
     "data": {
      "text/plain": [
       "['Gemini Mini S',\n",
       " 'Gemini Mini L',\n",
       " 'Gemini Jr.',\n",
       " 'Gemini Jr. XL',\n",
       " 'CMV-350 TS',\n",
       " 'Gemini XL',\n",
       " 'Gemini 460 XL',\n",
       " 'Gemini Max']"
      ]
     },
     "execution_count": 109,
     "metadata": {},
     "output_type": "execute_result"
    }
   ],
   "source": [
    "product_names"
   ]
  },
  {
   "cell_type": "code",
   "execution_count": 110,
   "id": "086dc786-0e4e-4289-8a27-fc2089c827d5",
   "metadata": {},
   "outputs": [],
   "source": [
    "x_travel.insert(-1,'NA')"
   ]
  },
  {
   "cell_type": "code",
   "execution_count": 111,
   "id": "0f2da5ad-3fbd-4429-9dce-97e0621ea1b5",
   "metadata": {},
   "outputs": [],
   "source": [
    "y_travel.insert(-1,'NA')"
   ]
  },
  {
   "cell_type": "code",
   "execution_count": 112,
   "id": "eef9f2b7-5bca-4bfb-953e-854ac43101b1",
   "metadata": {},
   "outputs": [],
   "source": [
    "z_travel.insert(-1,'NA')"
   ]
  },
  {
   "cell_type": "code",
   "execution_count": 113,
   "id": "2bddab76-9e41-4bc3-8408-eaad5eceb018",
   "metadata": {},
   "outputs": [
    {
     "data": {
      "text/plain": [
       "['400 ', '600 ', '500 ', '500 ', '400 ', '600 ', 'NA', '750 ']"
      ]
     },
     "execution_count": 113,
     "metadata": {},
     "output_type": "execute_result"
    }
   ],
   "source": [
    "x_travel"
   ]
  },
  {
   "cell_type": "code",
   "execution_count": 114,
   "id": "d16368be-cf84-4fed-a329-299609392945",
   "metadata": {},
   "outputs": [
    {
     "data": {
      "text/plain": [
       "[' 400 ', ' 450 ', ' 450 ', ' 450 ', ' 400 ', ' 450 ', 'NA', ' 500 ']"
      ]
     },
     "execution_count": 114,
     "metadata": {},
     "output_type": "execute_result"
    }
   ],
   "source": [
    "y_travel"
   ]
  },
  {
   "cell_type": "code",
   "execution_count": 115,
   "id": "edc951d2-7189-402a-8efe-a59d9c677104",
   "metadata": {},
   "outputs": [
    {
     "data": {
      "text/plain": [
       "[' 500', ' 500', ' 600', ' 600', ' 515', ' 600', 'NA', ' 600']"
      ]
     },
     "execution_count": 115,
     "metadata": {},
     "output_type": "execute_result"
    }
   ],
   "source": [
    "z_travel"
   ]
  },
  {
   "cell_type": "code",
   "execution_count": 116,
   "id": "22aa8531-e024-4781-9764-87c09605a7bd",
   "metadata": {},
   "outputs": [],
   "source": [
    "param_2.insert(-1,'Twin Spindle VMC')"
   ]
  },
  {
   "cell_type": "code",
   "execution_count": 117,
   "id": "54efe1b5-63a4-46f3-a35f-a6f39c889edc",
   "metadata": {},
   "outputs": [
    {
     "data": {
      "text/plain": [
       "['Twin Spindle VMC',\n",
       " 'Twin Spindle VMC',\n",
       " 'Twin Spindle VMC',\n",
       " 'Twin Spindle VMC',\n",
       " 'Twin Spindle VMC',\n",
       " 'Twin Spindle VMC',\n",
       " 'Twin Spindle VMC',\n",
       " 'Twin Spindle VMC']"
      ]
     },
     "execution_count": 117,
     "metadata": {},
     "output_type": "execute_result"
    }
   ],
   "source": [
    "param_2"
   ]
  },
  {
   "cell_type": "code",
   "execution_count": 118,
   "id": "35c5221f-4e84-4336-9028-76dd7c9415c6",
   "metadata": {},
   "outputs": [],
   "source": [
    "df7 = pd.DataFrame({'param_2': param_2, 'model_name': product_names, 'x_travel':x_travel , 'y_travel':y_travel,'z_travel':z_travel})"
   ]
  },
  {
   "cell_type": "code",
   "execution_count": 119,
   "id": "df1d461c-a2c9-431e-88b0-947445f72ccc",
   "metadata": {},
   "outputs": [
    {
     "data": {
      "text/html": [
       "<div>\n",
       "<style scoped>\n",
       "    .dataframe tbody tr th:only-of-type {\n",
       "        vertical-align: middle;\n",
       "    }\n",
       "\n",
       "    .dataframe tbody tr th {\n",
       "        vertical-align: top;\n",
       "    }\n",
       "\n",
       "    .dataframe thead th {\n",
       "        text-align: right;\n",
       "    }\n",
       "</style>\n",
       "<table border=\"1\" class=\"dataframe\">\n",
       "  <thead>\n",
       "    <tr style=\"text-align: right;\">\n",
       "      <th></th>\n",
       "      <th>param_2</th>\n",
       "      <th>model_name</th>\n",
       "      <th>x_travel</th>\n",
       "      <th>y_travel</th>\n",
       "      <th>z_travel</th>\n",
       "    </tr>\n",
       "  </thead>\n",
       "  <tbody>\n",
       "    <tr>\n",
       "      <th>0</th>\n",
       "      <td>Twin Spindle VMC</td>\n",
       "      <td>Gemini Mini S</td>\n",
       "      <td>400</td>\n",
       "      <td>400</td>\n",
       "      <td>500</td>\n",
       "    </tr>\n",
       "    <tr>\n",
       "      <th>1</th>\n",
       "      <td>Twin Spindle VMC</td>\n",
       "      <td>Gemini Mini L</td>\n",
       "      <td>600</td>\n",
       "      <td>450</td>\n",
       "      <td>500</td>\n",
       "    </tr>\n",
       "    <tr>\n",
       "      <th>2</th>\n",
       "      <td>Twin Spindle VMC</td>\n",
       "      <td>Gemini Jr.</td>\n",
       "      <td>500</td>\n",
       "      <td>450</td>\n",
       "      <td>600</td>\n",
       "    </tr>\n",
       "    <tr>\n",
       "      <th>3</th>\n",
       "      <td>Twin Spindle VMC</td>\n",
       "      <td>Gemini Jr. XL</td>\n",
       "      <td>500</td>\n",
       "      <td>450</td>\n",
       "      <td>600</td>\n",
       "    </tr>\n",
       "    <tr>\n",
       "      <th>4</th>\n",
       "      <td>Twin Spindle VMC</td>\n",
       "      <td>CMV-350 TS</td>\n",
       "      <td>400</td>\n",
       "      <td>400</td>\n",
       "      <td>515</td>\n",
       "    </tr>\n",
       "    <tr>\n",
       "      <th>5</th>\n",
       "      <td>Twin Spindle VMC</td>\n",
       "      <td>Gemini XL</td>\n",
       "      <td>600</td>\n",
       "      <td>450</td>\n",
       "      <td>600</td>\n",
       "    </tr>\n",
       "    <tr>\n",
       "      <th>6</th>\n",
       "      <td>Twin Spindle VMC</td>\n",
       "      <td>Gemini 460 XL</td>\n",
       "      <td>NA</td>\n",
       "      <td>NA</td>\n",
       "      <td>NA</td>\n",
       "    </tr>\n",
       "    <tr>\n",
       "      <th>7</th>\n",
       "      <td>Twin Spindle VMC</td>\n",
       "      <td>Gemini Max</td>\n",
       "      <td>750</td>\n",
       "      <td>500</td>\n",
       "      <td>600</td>\n",
       "    </tr>\n",
       "  </tbody>\n",
       "</table>\n",
       "</div>"
      ],
      "text/plain": [
       "            param_2     model_name x_travel y_travel z_travel\n",
       "0  Twin Spindle VMC  Gemini Mini S     400      400       500\n",
       "1  Twin Spindle VMC  Gemini Mini L     600      450       500\n",
       "2  Twin Spindle VMC     Gemini Jr.     500      450       600\n",
       "3  Twin Spindle VMC  Gemini Jr. XL     500      450       600\n",
       "4  Twin Spindle VMC     CMV-350 TS     400      400       515\n",
       "5  Twin Spindle VMC      Gemini XL     600      450       600\n",
       "6  Twin Spindle VMC  Gemini 460 XL       NA       NA       NA\n",
       "7  Twin Spindle VMC     Gemini Max     750      500       600"
      ]
     },
     "execution_count": 119,
     "metadata": {},
     "output_type": "execute_result"
    }
   ],
   "source": [
    "df7"
   ]
  },
  {
   "cell_type": "markdown",
   "id": "2f6dd884-5e1c-4433-82fe-494a09c4b0f8",
   "metadata": {},
   "source": [
    "# Special VMC ----->>"
   ]
  },
  {
   "cell_type": "code",
   "execution_count": 120,
   "id": "0e95837e-33dc-4bd8-be88-da23c0f9aabc",
   "metadata": {},
   "outputs": [],
   "source": [
    "sv = links[4]"
   ]
  },
  {
   "cell_type": "code",
   "execution_count": 121,
   "id": "6ed09880-26a8-431d-9141-0d1d12822034",
   "metadata": {},
   "outputs": [
    {
     "data": {
      "text/plain": [
       "'https://www.acemicromatic.net/product_cat/special-vmc/'"
      ]
     },
     "execution_count": 121,
     "metadata": {},
     "output_type": "execute_result"
    }
   ],
   "source": [
    "sv"
   ]
  },
  {
   "cell_type": "code",
   "execution_count": 122,
   "id": "5617dc13-e0b2-4c03-b5db-a7bb38118f00",
   "metadata": {},
   "outputs": [],
   "source": [
    "nw_sv = requests.get(sv, headers=headers)"
   ]
  },
  {
   "cell_type": "code",
   "execution_count": 123,
   "id": "0371b2a2-715d-443d-a174-44d13ef11f1d",
   "metadata": {},
   "outputs": [],
   "source": [
    "soup_sv = BeautifulSoup(nw_sv.content,'html.parser')"
   ]
  },
  {
   "cell_type": "code",
   "execution_count": 124,
   "id": "2da0ab03-ab41-4749-adce-80c4606e294d",
   "metadata": {},
   "outputs": [],
   "source": [
    "product_names = [j.text for i in soup_sv.find_all(class_='productcat-wrapper') for j in i.find_all('h4')]"
   ]
  },
  {
   "cell_type": "code",
   "execution_count": 125,
   "id": "db507d61-4b39-47bb-aa7f-98906462dc97",
   "metadata": {},
   "outputs": [
    {
     "data": {
      "text/plain": [
       "['DM-800', 'LEADER-400XL']"
      ]
     },
     "execution_count": 125,
     "metadata": {},
     "output_type": "execute_result"
    }
   ],
   "source": [
    "product_names"
   ]
  },
  {
   "cell_type": "code",
   "execution_count": 126,
   "id": "b2c78dce-5c6f-4e2c-aa79-6a382e85fa73",
   "metadata": {},
   "outputs": [],
   "source": [
    "links_sv = [j.get('href') for i in soup_sv.find_all(class_='button-wrapper') for j in i.find_all('a')]"
   ]
  },
  {
   "cell_type": "code",
   "execution_count": 127,
   "id": "10dfeff2-8165-4f4e-9281-6e0dad505b6a",
   "metadata": {},
   "outputs": [
    {
     "data": {
      "text/plain": [
       "['https://www.acemicromatic.net/aceproduct/dm-800/',\n",
       " 'https://www.acemicromatic.net/aceproduct/leader-400xl/']"
      ]
     },
     "execution_count": 127,
     "metadata": {},
     "output_type": "execute_result"
    }
   ],
   "source": [
    "links_sv"
   ]
  },
  {
   "cell_type": "code",
   "execution_count": 128,
   "id": "139400b9-ec79-46d7-9c8b-d21190e302ac",
   "metadata": {},
   "outputs": [],
   "source": [
    "xyz_sv = []\n",
    "\n",
    "for link_data in links_sv:\n",
    "    sv = requests.get(link_data, headers=headers)\n",
    "    svs = BeautifulSoup(sv.content,'html.parser')\n",
    "    table = svs.find('table')\n",
    "    table_data = [[cell.text.strip() for cell in row.find_all('td')] for row in table.find_all('tr')]\n",
    "    xyz_sv.append(table_data[6][-1])"
   ]
  },
  {
   "cell_type": "code",
   "execution_count": 129,
   "id": "5508ddf3-46d4-4ddf-8351-14586490e55a",
   "metadata": {},
   "outputs": [],
   "source": [
    "travels_sv = []\n",
    "for i in range(len(xyz_sv)):\n",
    "    travels_sv.append(xyz_sv[i].split('/'))"
   ]
  },
  {
   "cell_type": "code",
   "execution_count": 130,
   "id": "15e79f15-d2b0-44ce-a3f0-b6de00014bc8",
   "metadata": {},
   "outputs": [],
   "source": [
    "x_travel = [row[0] for row in travels_sv]\n",
    "y_travel = [row[1] for row in travels_sv]\n",
    "z_travel = [row[2] for row in travels_sv]"
   ]
  },
  {
   "cell_type": "code",
   "execution_count": 131,
   "id": "a84a5ba0-ea36-4f85-8774-cba4f76c929a",
   "metadata": {},
   "outputs": [],
   "source": [
    "param_2 = []\n",
    "for i in range(len(x_travel)):\n",
    "    param_2.append('Special VMC')"
   ]
  },
  {
   "cell_type": "code",
   "execution_count": 132,
   "id": "336a4c11-ac7b-40d5-b031-c4dfa79b326c",
   "metadata": {},
   "outputs": [],
   "source": [
    "df8 = pd.DataFrame({'param_2': param_2, 'model_name': product_names, 'x_travel':x_travel , 'y_travel':y_travel,'z_travel':z_travel})"
   ]
  },
  {
   "cell_type": "code",
   "execution_count": 133,
   "id": "1c041539-595c-4148-9f82-be0e7e14c3e6",
   "metadata": {},
   "outputs": [
    {
     "data": {
      "text/html": [
       "<div>\n",
       "<style scoped>\n",
       "    .dataframe tbody tr th:only-of-type {\n",
       "        vertical-align: middle;\n",
       "    }\n",
       "\n",
       "    .dataframe tbody tr th {\n",
       "        vertical-align: top;\n",
       "    }\n",
       "\n",
       "    .dataframe thead th {\n",
       "        text-align: right;\n",
       "    }\n",
       "</style>\n",
       "<table border=\"1\" class=\"dataframe\">\n",
       "  <thead>\n",
       "    <tr style=\"text-align: right;\">\n",
       "      <th></th>\n",
       "      <th>param_2</th>\n",
       "      <th>model_name</th>\n",
       "      <th>x_travel</th>\n",
       "      <th>y_travel</th>\n",
       "      <th>z_travel</th>\n",
       "    </tr>\n",
       "  </thead>\n",
       "  <tbody>\n",
       "    <tr>\n",
       "      <th>0</th>\n",
       "      <td>Special VMC</td>\n",
       "      <td>DM-800</td>\n",
       "      <td>1000</td>\n",
       "      <td>800</td>\n",
       "      <td>500</td>\n",
       "    </tr>\n",
       "    <tr>\n",
       "      <th>1</th>\n",
       "      <td>Special VMC</td>\n",
       "      <td>LEADER-400XL</td>\n",
       "      <td>600</td>\n",
       "      <td>450</td>\n",
       "      <td>500</td>\n",
       "    </tr>\n",
       "  </tbody>\n",
       "</table>\n",
       "</div>"
      ],
      "text/plain": [
       "       param_2    model_name x_travel y_travel z_travel\n",
       "0  Special VMC        DM-800    1000      800       500\n",
       "1  Special VMC  LEADER-400XL     600      450       500"
      ]
     },
     "execution_count": 133,
     "metadata": {},
     "output_type": "execute_result"
    }
   ],
   "source": [
    "df8"
   ]
  },
  {
   "cell_type": "markdown",
   "id": "da8d03fb-0b9f-4ef3-a0bd-6fb33794d2f8",
   "metadata": {},
   "source": [
    "# Horizontal Machining Centers"
   ]
  },
  {
   "cell_type": "code",
   "execution_count": 134,
   "id": "e26a25b3-b386-480f-ba27-53a3b80522d3",
   "metadata": {},
   "outputs": [],
   "source": [
    "hmc = links[-1]"
   ]
  },
  {
   "cell_type": "code",
   "execution_count": 135,
   "id": "2deba0aa-a934-4928-8c8a-eded0a89cca5",
   "metadata": {},
   "outputs": [
    {
     "data": {
      "text/plain": [
       "'https://www.acemicromatic.net/product_cat/horizontal-machining-centers/'"
      ]
     },
     "execution_count": 135,
     "metadata": {},
     "output_type": "execute_result"
    }
   ],
   "source": [
    "hmc"
   ]
  },
  {
   "cell_type": "code",
   "execution_count": 136,
   "id": "78aeec8c-6b72-4c50-a52b-ed6c45eac3e9",
   "metadata": {},
   "outputs": [],
   "source": [
    "nw_hm = requests.get(hmc, headers=headers)"
   ]
  },
  {
   "cell_type": "code",
   "execution_count": 137,
   "id": "52cda28b-7088-409c-b814-b4a814a66980",
   "metadata": {},
   "outputs": [],
   "source": [
    "soup_hm = BeautifulSoup(nw_hm.content,'html.parser')"
   ]
  },
  {
   "cell_type": "code",
   "execution_count": 138,
   "id": "0dd40bfa-ee07-4d53-b906-710fe08b09e0",
   "metadata": {},
   "outputs": [],
   "source": [
    "product_names = [j.text for i in soup_hm.find_all(class_='productcat-wrapper') for j in i.find_all('h4')]"
   ]
  },
  {
   "cell_type": "code",
   "execution_count": 139,
   "id": "1b1d3d23-cafe-4be5-a0c7-e996e4411d1a",
   "metadata": {},
   "outputs": [
    {
     "data": {
      "text/plain": [
       "['PROTON',\n",
       " 'HMC-400XL',\n",
       " 'CMH-400',\n",
       " 'CMH-400 XL',\n",
       " 'CMH-500',\n",
       " 'CMH-500-50',\n",
       " 'CMH-500 XL',\n",
       " 'CMH-500 XL-50',\n",
       " 'MCH-400 XL',\n",
       " 'MCH-500L',\n",
       " 'MCH-500L-50',\n",
       " 'MCH-630',\n",
       " 'MCH-800']"
      ]
     },
     "execution_count": 139,
     "metadata": {},
     "output_type": "execute_result"
    }
   ],
   "source": [
    "product_names"
   ]
  },
  {
   "cell_type": "code",
   "execution_count": 140,
   "id": "e0d8e9a3-544d-43b7-8403-8f598d4b0cf5",
   "metadata": {},
   "outputs": [],
   "source": [
    "links_hm = [j.get('href') for i in soup_hm.find_all(class_='button-wrapper') for j in i.find_all('a')]"
   ]
  },
  {
   "cell_type": "code",
   "execution_count": 146,
   "id": "2f9d2488-b7f4-4325-9620-423368bf06ca",
   "metadata": {},
   "outputs": [
    {
     "data": {
      "text/plain": [
       "['https://www.acemicromatic.net/aceproduct/proton/',\n",
       " 'https://www.acemicromatic.net/aceproduct/hmc-400xl/',\n",
       " 'https://www.acemicromatic.net/aceproduct/cmh-400/',\n",
       " 'https://www.acemicromatic.net/aceproduct/cmh-400-xl/',\n",
       " 'https://www.acemicromatic.net/aceproduct/cmh-500/',\n",
       " 'https://www.acemicromatic.net/aceproduct/cmh-500-50/',\n",
       " 'https://www.acemicromatic.net/aceproduct/cmh-500-xl/',\n",
       " 'https://www.acemicromatic.net/aceproduct/cmh-500-xl-50/',\n",
       " 'https://www.acemicromatic.net/aceproduct/mch-400-xl/',\n",
       " 'https://www.acemicromatic.net/aceproduct/mch-500l/',\n",
       " 'https://www.acemicromatic.net/aceproduct/mch-500l-50/',\n",
       " 'https://www.acemicromatic.net/aceproduct/mch-630/',\n",
       " 'https://www.acemicromatic.net/aceproduct/mch-800/']"
      ]
     },
     "execution_count": 146,
     "metadata": {},
     "output_type": "execute_result"
    }
   ],
   "source": [
    "links_hm"
   ]
  },
  {
   "cell_type": "code",
   "execution_count": 159,
   "id": "76a315d5-3e81-4e7a-b32d-c96c6f615de4",
   "metadata": {},
   "outputs": [],
   "source": [
    "xyz_hm = []\n",
    "\n",
    "for link_data in links_hm:\n",
    "    hm = requests.get(link_data, headers=headers)\n",
    "    shm = BeautifulSoup(hm.content,'html.parser')\n",
    "    table = shm.find('table')\n",
    "    table_data = [[cell.text.strip() for cell in row.find_all('td')] for row in table.find_all('tr')]\n",
    "    xyz_hm.append(table_data[7][-1])"
   ]
  },
  {
   "cell_type": "code",
   "execution_count": 160,
   "id": "c620b7dc-dcf6-42ea-9634-ca852018c3a2",
   "metadata": {},
   "outputs": [
    {
     "data": {
      "text/plain": [
       "['500 / 400 / 400',\n",
       " '600 / 500 / 500',\n",
       " '600 / 500 / 500',\n",
       " '600 / 500 / 500',\n",
       " '800 / 600 / 600',\n",
       " '800 / 600 / 600',\n",
       " '800 / 600 / 600',\n",
       " '800 / 600 / 600',\n",
       " '610 / 610 / 650',\n",
       " '800 / 800 / 800',\n",
       " '800 / 780 / 800',\n",
       " '1000 / 900 / 910',\n",
       " '1500 / 1200 / 1300']"
      ]
     },
     "execution_count": 160,
     "metadata": {},
     "output_type": "execute_result"
    }
   ],
   "source": [
    "xyz_hm"
   ]
  },
  {
   "cell_type": "code",
   "execution_count": 161,
   "id": "f41bc3c1-527d-4ede-a634-285571613c27",
   "metadata": {},
   "outputs": [],
   "source": [
    "travels_hm = []\n",
    "for i in range(len(xyz_hm)):\n",
    "    travels_hm.append(xyz_hm[i].split('/'))"
   ]
  },
  {
   "cell_type": "code",
   "execution_count": 163,
   "id": "3cc20ea3-e791-4c2b-9353-70b056a39ac8",
   "metadata": {},
   "outputs": [],
   "source": [
    "x_travel = [row[0] for row in travels_hm]\n",
    "y_travel = [row[1] for row in travels_hm]\n",
    "z_travel = [row[2] for row in travels_hm]"
   ]
  },
  {
   "cell_type": "code",
   "execution_count": 164,
   "id": "3ef58a6e-37a6-4f8a-a311-111faf02549d",
   "metadata": {},
   "outputs": [],
   "source": [
    "param_2 = []\n",
    "for i in range(len(x_travel)):\n",
    "    param_2.append('Horizontal Machining Centers')"
   ]
  },
  {
   "cell_type": "code",
   "execution_count": 165,
   "id": "128bbbbf-a803-43dc-a22c-3f10043a602a",
   "metadata": {},
   "outputs": [],
   "source": [
    "df9 = pd.DataFrame({'param_2': param_2, 'model_name': product_names, 'x_travel':x_travel , 'y_travel':y_travel,'z_travel':z_travel})"
   ]
  },
  {
   "cell_type": "code",
   "execution_count": 166,
   "id": "00beda5f-d101-4d4e-9a20-406a963eb8a3",
   "metadata": {},
   "outputs": [
    {
     "data": {
      "text/html": [
       "<div>\n",
       "<style scoped>\n",
       "    .dataframe tbody tr th:only-of-type {\n",
       "        vertical-align: middle;\n",
       "    }\n",
       "\n",
       "    .dataframe tbody tr th {\n",
       "        vertical-align: top;\n",
       "    }\n",
       "\n",
       "    .dataframe thead th {\n",
       "        text-align: right;\n",
       "    }\n",
       "</style>\n",
       "<table border=\"1\" class=\"dataframe\">\n",
       "  <thead>\n",
       "    <tr style=\"text-align: right;\">\n",
       "      <th></th>\n",
       "      <th>param_2</th>\n",
       "      <th>model_name</th>\n",
       "      <th>x_travel</th>\n",
       "      <th>y_travel</th>\n",
       "      <th>z_travel</th>\n",
       "    </tr>\n",
       "  </thead>\n",
       "  <tbody>\n",
       "    <tr>\n",
       "      <th>0</th>\n",
       "      <td>Horizontal Machining Centers</td>\n",
       "      <td>PROTON</td>\n",
       "      <td>500</td>\n",
       "      <td>400</td>\n",
       "      <td>400</td>\n",
       "    </tr>\n",
       "    <tr>\n",
       "      <th>1</th>\n",
       "      <td>Horizontal Machining Centers</td>\n",
       "      <td>HMC-400XL</td>\n",
       "      <td>600</td>\n",
       "      <td>500</td>\n",
       "      <td>500</td>\n",
       "    </tr>\n",
       "    <tr>\n",
       "      <th>2</th>\n",
       "      <td>Horizontal Machining Centers</td>\n",
       "      <td>CMH-400</td>\n",
       "      <td>600</td>\n",
       "      <td>500</td>\n",
       "      <td>500</td>\n",
       "    </tr>\n",
       "    <tr>\n",
       "      <th>3</th>\n",
       "      <td>Horizontal Machining Centers</td>\n",
       "      <td>CMH-400 XL</td>\n",
       "      <td>600</td>\n",
       "      <td>500</td>\n",
       "      <td>500</td>\n",
       "    </tr>\n",
       "    <tr>\n",
       "      <th>4</th>\n",
       "      <td>Horizontal Machining Centers</td>\n",
       "      <td>CMH-500</td>\n",
       "      <td>800</td>\n",
       "      <td>600</td>\n",
       "      <td>600</td>\n",
       "    </tr>\n",
       "    <tr>\n",
       "      <th>5</th>\n",
       "      <td>Horizontal Machining Centers</td>\n",
       "      <td>CMH-500-50</td>\n",
       "      <td>800</td>\n",
       "      <td>600</td>\n",
       "      <td>600</td>\n",
       "    </tr>\n",
       "    <tr>\n",
       "      <th>6</th>\n",
       "      <td>Horizontal Machining Centers</td>\n",
       "      <td>CMH-500 XL</td>\n",
       "      <td>800</td>\n",
       "      <td>600</td>\n",
       "      <td>600</td>\n",
       "    </tr>\n",
       "    <tr>\n",
       "      <th>7</th>\n",
       "      <td>Horizontal Machining Centers</td>\n",
       "      <td>CMH-500 XL-50</td>\n",
       "      <td>800</td>\n",
       "      <td>600</td>\n",
       "      <td>600</td>\n",
       "    </tr>\n",
       "    <tr>\n",
       "      <th>8</th>\n",
       "      <td>Horizontal Machining Centers</td>\n",
       "      <td>MCH-400 XL</td>\n",
       "      <td>610</td>\n",
       "      <td>610</td>\n",
       "      <td>650</td>\n",
       "    </tr>\n",
       "    <tr>\n",
       "      <th>9</th>\n",
       "      <td>Horizontal Machining Centers</td>\n",
       "      <td>MCH-500L</td>\n",
       "      <td>800</td>\n",
       "      <td>800</td>\n",
       "      <td>800</td>\n",
       "    </tr>\n",
       "    <tr>\n",
       "      <th>10</th>\n",
       "      <td>Horizontal Machining Centers</td>\n",
       "      <td>MCH-500L-50</td>\n",
       "      <td>800</td>\n",
       "      <td>780</td>\n",
       "      <td>800</td>\n",
       "    </tr>\n",
       "    <tr>\n",
       "      <th>11</th>\n",
       "      <td>Horizontal Machining Centers</td>\n",
       "      <td>MCH-630</td>\n",
       "      <td>1000</td>\n",
       "      <td>900</td>\n",
       "      <td>910</td>\n",
       "    </tr>\n",
       "    <tr>\n",
       "      <th>12</th>\n",
       "      <td>Horizontal Machining Centers</td>\n",
       "      <td>MCH-800</td>\n",
       "      <td>1500</td>\n",
       "      <td>1200</td>\n",
       "      <td>1300</td>\n",
       "    </tr>\n",
       "  </tbody>\n",
       "</table>\n",
       "</div>"
      ],
      "text/plain": [
       "                         param_2     model_name x_travel y_travel z_travel\n",
       "0   Horizontal Machining Centers         PROTON     500      400       400\n",
       "1   Horizontal Machining Centers      HMC-400XL     600      500       500\n",
       "2   Horizontal Machining Centers        CMH-400     600      500       500\n",
       "3   Horizontal Machining Centers     CMH-400 XL     600      500       500\n",
       "4   Horizontal Machining Centers        CMH-500     800      600       600\n",
       "5   Horizontal Machining Centers     CMH-500-50     800      600       600\n",
       "6   Horizontal Machining Centers     CMH-500 XL     800      600       600\n",
       "7   Horizontal Machining Centers  CMH-500 XL-50     800      600       600\n",
       "8   Horizontal Machining Centers     MCH-400 XL     610      610       650\n",
       "9   Horizontal Machining Centers       MCH-500L     800      800       800\n",
       "10  Horizontal Machining Centers    MCH-500L-50     800      780       800\n",
       "11  Horizontal Machining Centers        MCH-630    1000      900       910\n",
       "12  Horizontal Machining Centers        MCH-800    1500     1200      1300"
      ]
     },
     "execution_count": 166,
     "metadata": {},
     "output_type": "execute_result"
    }
   ],
   "source": [
    "df9"
   ]
  },
  {
   "cell_type": "markdown",
   "id": "df05b30a-2a0b-422c-b5e9-0942b48993d8",
   "metadata": {},
   "source": [
    "# Double Column ---->>>"
   ]
  },
  {
   "cell_type": "code",
   "execution_count": 193,
   "id": "b56c2cc1-cd1a-4999-a02e-fef7528c4fbd",
   "metadata": {},
   "outputs": [],
   "source": [
    "dc = links[-2]"
   ]
  },
  {
   "cell_type": "code",
   "execution_count": 194,
   "id": "423f4b57-878e-4aeb-b42d-9dc41cfb6aab",
   "metadata": {},
   "outputs": [
    {
     "data": {
      "text/plain": [
       "'https://www.acemicromatic.net/product_cat/double-column/'"
      ]
     },
     "execution_count": 194,
     "metadata": {},
     "output_type": "execute_result"
    }
   ],
   "source": [
    "dc"
   ]
  },
  {
   "cell_type": "code",
   "execution_count": 195,
   "id": "3ad86135-c7a7-454d-a5b1-896ca21ab2ca",
   "metadata": {},
   "outputs": [],
   "source": [
    "nw_dc = requests.get(dc, headers=headers)"
   ]
  },
  {
   "cell_type": "code",
   "execution_count": 196,
   "id": "96a34445-86af-40e0-9d06-b33f6331dfab",
   "metadata": {},
   "outputs": [],
   "source": [
    "soup_dc = BeautifulSoup(nw_dc.content,'html.parser')"
   ]
  },
  {
   "cell_type": "code",
   "execution_count": 197,
   "id": "13c6dd23-4f1e-437e-87cf-461d501eec75",
   "metadata": {},
   "outputs": [],
   "source": [
    "product_names = [j.text for i in soup_dc.find_all(class_='productcat-wrapper') for j in i.find_all('h4')]"
   ]
  },
  {
   "cell_type": "code",
   "execution_count": 198,
   "id": "74a4069a-de1f-4793-bf74-73cd9d765497",
   "metadata": {},
   "outputs": [
    {
     "data": {
      "text/plain": [
       "['DC-2512', 'DC-2516', 'DC-3016', 'DC-3020', 'DC-4020']"
      ]
     },
     "execution_count": 198,
     "metadata": {},
     "output_type": "execute_result"
    }
   ],
   "source": [
    "product_names"
   ]
  },
  {
   "cell_type": "code",
   "execution_count": 199,
   "id": "4b8f291b-c681-4538-9c83-18613f9de0c7",
   "metadata": {},
   "outputs": [],
   "source": [
    "links_dc = [j.get('href') for i in soup_dc.find_all(class_='button-wrapper') for j in i.find_all('a')]"
   ]
  },
  {
   "cell_type": "code",
   "execution_count": 200,
   "id": "887e3720-c518-47e1-a2ee-75007c07f499",
   "metadata": {},
   "outputs": [
    {
     "data": {
      "text/plain": [
       "['https://www.acemicromatic.net/aceproduct/dc-2512/',\n",
       " 'https://www.acemicromatic.net/aceproduct/dc-2516/',\n",
       " 'https://www.acemicromatic.net/aceproduct/dc-3016/',\n",
       " 'https://www.acemicromatic.net/aceproduct/dc-3020/',\n",
       " 'https://www.acemicromatic.net/aceproduct/dc-4020/']"
      ]
     },
     "execution_count": 200,
     "metadata": {},
     "output_type": "execute_result"
    }
   ],
   "source": [
    "links_dc"
   ]
  },
  {
   "cell_type": "code",
   "execution_count": 201,
   "id": "91390e60-3de0-43fc-aaf4-4494a496f960",
   "metadata": {},
   "outputs": [],
   "source": [
    "xyz_dc = []\n",
    "\n",
    "for link_data in links_dc:\n",
    "    dc = requests.get(link_data, headers=headers)\n",
    "    sdc = BeautifulSoup(dc.content,'html.parser')\n",
    "    table = sdc.find('table')\n",
    "    table_data = [[cell.text.strip() for cell in row.find_all('td')] for row in table.find_all('tr')]\n",
    "    list = table_data[6:9]\n",
    "    last_values = [row[-1] for row in list]\n",
    "    xyz_dc.append(last_values)"
   ]
  },
  {
   "cell_type": "code",
   "execution_count": 202,
   "id": "1276d4d1-c642-4b33-8517-15a19a924e46",
   "metadata": {},
   "outputs": [
    {
     "data": {
      "text/plain": [
       "[['2700', '1450', '800 / 1000'],\n",
       " ['2700', '1700', '800 / 1000'],\n",
       " ['3200', '1700', '800 / 1000'],\n",
       " ['3200', '2200', '800 / 1000'],\n",
       " ['4200', '2200', '1000']]"
      ]
     },
     "execution_count": 202,
     "metadata": {},
     "output_type": "execute_result"
    }
   ],
   "source": [
    "xyz_dc"
   ]
  },
  {
   "cell_type": "code",
   "execution_count": 205,
   "id": "1882fd0d-f1ab-43cc-915e-9aa0c3601577",
   "metadata": {},
   "outputs": [],
   "source": [
    "x_travel = [row[0] for row in xyz_dc]\n",
    "y_travel = [row[1] for row in xyz_dc]\n",
    "z_travel = [row[2] for row in xyz_dc]"
   ]
  },
  {
   "cell_type": "code",
   "execution_count": 206,
   "id": "9adf0b95-604a-4405-9c3f-423af3c35cf9",
   "metadata": {},
   "outputs": [],
   "source": [
    "param_2 = []\n",
    "for i in range(len(x_travel)):\n",
    "    param_2.append('Double Column')"
   ]
  },
  {
   "cell_type": "code",
   "execution_count": 207,
   "id": "1565244c-025c-4646-abe7-a1f877b30a34",
   "metadata": {},
   "outputs": [],
   "source": [
    "df10 = pd.DataFrame({'param_2': param_2, 'model_name': product_names, 'x_travel':x_travel , 'y_travel':y_travel,'z_travel':z_travel})"
   ]
  },
  {
   "cell_type": "code",
   "execution_count": 208,
   "id": "a01c770d-2c9d-411d-8743-36a5a739418c",
   "metadata": {},
   "outputs": [
    {
     "data": {
      "text/html": [
       "<div>\n",
       "<style scoped>\n",
       "    .dataframe tbody tr th:only-of-type {\n",
       "        vertical-align: middle;\n",
       "    }\n",
       "\n",
       "    .dataframe tbody tr th {\n",
       "        vertical-align: top;\n",
       "    }\n",
       "\n",
       "    .dataframe thead th {\n",
       "        text-align: right;\n",
       "    }\n",
       "</style>\n",
       "<table border=\"1\" class=\"dataframe\">\n",
       "  <thead>\n",
       "    <tr style=\"text-align: right;\">\n",
       "      <th></th>\n",
       "      <th>param_2</th>\n",
       "      <th>model_name</th>\n",
       "      <th>x_travel</th>\n",
       "      <th>y_travel</th>\n",
       "      <th>z_travel</th>\n",
       "    </tr>\n",
       "  </thead>\n",
       "  <tbody>\n",
       "    <tr>\n",
       "      <th>0</th>\n",
       "      <td>Double Column</td>\n",
       "      <td>DC-2512</td>\n",
       "      <td>2700</td>\n",
       "      <td>1450</td>\n",
       "      <td>800 / 1000</td>\n",
       "    </tr>\n",
       "    <tr>\n",
       "      <th>1</th>\n",
       "      <td>Double Column</td>\n",
       "      <td>DC-2516</td>\n",
       "      <td>2700</td>\n",
       "      <td>1700</td>\n",
       "      <td>800 / 1000</td>\n",
       "    </tr>\n",
       "    <tr>\n",
       "      <th>2</th>\n",
       "      <td>Double Column</td>\n",
       "      <td>DC-3016</td>\n",
       "      <td>3200</td>\n",
       "      <td>1700</td>\n",
       "      <td>800 / 1000</td>\n",
       "    </tr>\n",
       "    <tr>\n",
       "      <th>3</th>\n",
       "      <td>Double Column</td>\n",
       "      <td>DC-3020</td>\n",
       "      <td>3200</td>\n",
       "      <td>2200</td>\n",
       "      <td>800 / 1000</td>\n",
       "    </tr>\n",
       "    <tr>\n",
       "      <th>4</th>\n",
       "      <td>Double Column</td>\n",
       "      <td>DC-4020</td>\n",
       "      <td>4200</td>\n",
       "      <td>2200</td>\n",
       "      <td>1000</td>\n",
       "    </tr>\n",
       "  </tbody>\n",
       "</table>\n",
       "</div>"
      ],
      "text/plain": [
       "         param_2 model_name x_travel y_travel    z_travel\n",
       "0  Double Column    DC-2512     2700     1450  800 / 1000\n",
       "1  Double Column    DC-2516     2700     1700  800 / 1000\n",
       "2  Double Column    DC-3016     3200     1700  800 / 1000\n",
       "3  Double Column    DC-3020     3200     2200  800 / 1000\n",
       "4  Double Column    DC-4020     4200     2200        1000"
      ]
     },
     "execution_count": 208,
     "metadata": {},
     "output_type": "execute_result"
    }
   ],
   "source": [
    "df10"
   ]
  },
  {
   "cell_type": "code",
   "execution_count": 213,
   "id": "5abf2ecf-e3b1-496a-9b31-b3db30c4744e",
   "metadata": {},
   "outputs": [
    {
     "data": {
      "text/html": [
       "<div>\n",
       "<style scoped>\n",
       "    .dataframe tbody tr th:only-of-type {\n",
       "        vertical-align: middle;\n",
       "    }\n",
       "\n",
       "    .dataframe tbody tr th {\n",
       "        vertical-align: top;\n",
       "    }\n",
       "\n",
       "    .dataframe thead th {\n",
       "        text-align: right;\n",
       "    }\n",
       "</style>\n",
       "<table border=\"1\" class=\"dataframe\">\n",
       "  <thead>\n",
       "    <tr style=\"text-align: right;\">\n",
       "      <th></th>\n",
       "      <th>param_2</th>\n",
       "      <th>model_name</th>\n",
       "      <th>x_travel</th>\n",
       "      <th>y_travel</th>\n",
       "      <th>z_travel</th>\n",
       "    </tr>\n",
       "  </thead>\n",
       "  <tbody>\n",
       "    <tr>\n",
       "      <th>0</th>\n",
       "      <td>Twin Spindle VMC</td>\n",
       "      <td>Gemini Mini S</td>\n",
       "      <td>400</td>\n",
       "      <td>400</td>\n",
       "      <td>500</td>\n",
       "    </tr>\n",
       "    <tr>\n",
       "      <th>1</th>\n",
       "      <td>Twin Spindle VMC</td>\n",
       "      <td>Gemini Mini L</td>\n",
       "      <td>600</td>\n",
       "      <td>450</td>\n",
       "      <td>500</td>\n",
       "    </tr>\n",
       "    <tr>\n",
       "      <th>2</th>\n",
       "      <td>Twin Spindle VMC</td>\n",
       "      <td>Gemini Jr.</td>\n",
       "      <td>500</td>\n",
       "      <td>450</td>\n",
       "      <td>600</td>\n",
       "    </tr>\n",
       "    <tr>\n",
       "      <th>3</th>\n",
       "      <td>Twin Spindle VMC</td>\n",
       "      <td>Gemini Jr. XL</td>\n",
       "      <td>500</td>\n",
       "      <td>450</td>\n",
       "      <td>600</td>\n",
       "    </tr>\n",
       "    <tr>\n",
       "      <th>4</th>\n",
       "      <td>Twin Spindle VMC</td>\n",
       "      <td>CMV-350 TS</td>\n",
       "      <td>400</td>\n",
       "      <td>400</td>\n",
       "      <td>515</td>\n",
       "    </tr>\n",
       "    <tr>\n",
       "      <th>5</th>\n",
       "      <td>Twin Spindle VMC</td>\n",
       "      <td>Gemini XL</td>\n",
       "      <td>600</td>\n",
       "      <td>450</td>\n",
       "      <td>600</td>\n",
       "    </tr>\n",
       "    <tr>\n",
       "      <th>6</th>\n",
       "      <td>Twin Spindle VMC</td>\n",
       "      <td>Gemini 460 XL</td>\n",
       "      <td>NA</td>\n",
       "      <td>NA</td>\n",
       "      <td>NA</td>\n",
       "    </tr>\n",
       "    <tr>\n",
       "      <th>7</th>\n",
       "      <td>Twin Spindle VMC</td>\n",
       "      <td>Gemini Max</td>\n",
       "      <td>750</td>\n",
       "      <td>500</td>\n",
       "      <td>600</td>\n",
       "    </tr>\n",
       "  </tbody>\n",
       "</table>\n",
       "</div>"
      ],
      "text/plain": [
       "            param_2     model_name x_travel y_travel z_travel\n",
       "0  Twin Spindle VMC  Gemini Mini S     400      400       500\n",
       "1  Twin Spindle VMC  Gemini Mini L     600      450       500\n",
       "2  Twin Spindle VMC     Gemini Jr.     500      450       600\n",
       "3  Twin Spindle VMC  Gemini Jr. XL     500      450       600\n",
       "4  Twin Spindle VMC     CMV-350 TS     400      400       515\n",
       "5  Twin Spindle VMC      Gemini XL     600      450       600\n",
       "6  Twin Spindle VMC  Gemini 460 XL       NA       NA       NA\n",
       "7  Twin Spindle VMC     Gemini Max     750      500       600"
      ]
     },
     "execution_count": 213,
     "metadata": {},
     "output_type": "execute_result"
    }
   ],
   "source": [
    "df7"
   ]
  },
  {
   "cell_type": "code",
   "execution_count": 214,
   "id": "b174ff86-c0b1-43f0-b880-5162155a0984",
   "metadata": {},
   "outputs": [
    {
     "data": {
      "text/html": [
       "<div>\n",
       "<style scoped>\n",
       "    .dataframe tbody tr th:only-of-type {\n",
       "        vertical-align: middle;\n",
       "    }\n",
       "\n",
       "    .dataframe tbody tr th {\n",
       "        vertical-align: top;\n",
       "    }\n",
       "\n",
       "    .dataframe thead th {\n",
       "        text-align: right;\n",
       "    }\n",
       "</style>\n",
       "<table border=\"1\" class=\"dataframe\">\n",
       "  <thead>\n",
       "    <tr style=\"text-align: right;\">\n",
       "      <th></th>\n",
       "      <th>param_2</th>\n",
       "      <th>model_name</th>\n",
       "      <th>x_travel</th>\n",
       "      <th>y_travel</th>\n",
       "      <th>z_travel</th>\n",
       "    </tr>\n",
       "  </thead>\n",
       "  <tbody>\n",
       "    <tr>\n",
       "      <th>0</th>\n",
       "      <td>Special VMC</td>\n",
       "      <td>DM-800</td>\n",
       "      <td>1000</td>\n",
       "      <td>800</td>\n",
       "      <td>500</td>\n",
       "    </tr>\n",
       "    <tr>\n",
       "      <th>1</th>\n",
       "      <td>Special VMC</td>\n",
       "      <td>LEADER-400XL</td>\n",
       "      <td>600</td>\n",
       "      <td>450</td>\n",
       "      <td>500</td>\n",
       "    </tr>\n",
       "  </tbody>\n",
       "</table>\n",
       "</div>"
      ],
      "text/plain": [
       "       param_2    model_name x_travel y_travel z_travel\n",
       "0  Special VMC        DM-800    1000      800       500\n",
       "1  Special VMC  LEADER-400XL     600      450       500"
      ]
     },
     "execution_count": 214,
     "metadata": {},
     "output_type": "execute_result"
    }
   ],
   "source": [
    "df8"
   ]
  },
  {
   "cell_type": "code",
   "execution_count": 215,
   "id": "8029a9cd-e55f-4a70-bb9c-1ecbf5514ae9",
   "metadata": {},
   "outputs": [
    {
     "data": {
      "text/html": [
       "<div>\n",
       "<style scoped>\n",
       "    .dataframe tbody tr th:only-of-type {\n",
       "        vertical-align: middle;\n",
       "    }\n",
       "\n",
       "    .dataframe tbody tr th {\n",
       "        vertical-align: top;\n",
       "    }\n",
       "\n",
       "    .dataframe thead th {\n",
       "        text-align: right;\n",
       "    }\n",
       "</style>\n",
       "<table border=\"1\" class=\"dataframe\">\n",
       "  <thead>\n",
       "    <tr style=\"text-align: right;\">\n",
       "      <th></th>\n",
       "      <th>param_2</th>\n",
       "      <th>model_name</th>\n",
       "      <th>x_travel</th>\n",
       "      <th>y_travel</th>\n",
       "      <th>z_travel</th>\n",
       "    </tr>\n",
       "  </thead>\n",
       "  <tbody>\n",
       "    <tr>\n",
       "      <th>0</th>\n",
       "      <td>Horizontal Machining Centers</td>\n",
       "      <td>PROTON</td>\n",
       "      <td>500</td>\n",
       "      <td>400</td>\n",
       "      <td>400</td>\n",
       "    </tr>\n",
       "    <tr>\n",
       "      <th>1</th>\n",
       "      <td>Horizontal Machining Centers</td>\n",
       "      <td>HMC-400XL</td>\n",
       "      <td>600</td>\n",
       "      <td>500</td>\n",
       "      <td>500</td>\n",
       "    </tr>\n",
       "    <tr>\n",
       "      <th>2</th>\n",
       "      <td>Horizontal Machining Centers</td>\n",
       "      <td>CMH-400</td>\n",
       "      <td>600</td>\n",
       "      <td>500</td>\n",
       "      <td>500</td>\n",
       "    </tr>\n",
       "    <tr>\n",
       "      <th>3</th>\n",
       "      <td>Horizontal Machining Centers</td>\n",
       "      <td>CMH-400 XL</td>\n",
       "      <td>600</td>\n",
       "      <td>500</td>\n",
       "      <td>500</td>\n",
       "    </tr>\n",
       "    <tr>\n",
       "      <th>4</th>\n",
       "      <td>Horizontal Machining Centers</td>\n",
       "      <td>CMH-500</td>\n",
       "      <td>800</td>\n",
       "      <td>600</td>\n",
       "      <td>600</td>\n",
       "    </tr>\n",
       "    <tr>\n",
       "      <th>5</th>\n",
       "      <td>Horizontal Machining Centers</td>\n",
       "      <td>CMH-500-50</td>\n",
       "      <td>800</td>\n",
       "      <td>600</td>\n",
       "      <td>600</td>\n",
       "    </tr>\n",
       "    <tr>\n",
       "      <th>6</th>\n",
       "      <td>Horizontal Machining Centers</td>\n",
       "      <td>CMH-500 XL</td>\n",
       "      <td>800</td>\n",
       "      <td>600</td>\n",
       "      <td>600</td>\n",
       "    </tr>\n",
       "    <tr>\n",
       "      <th>7</th>\n",
       "      <td>Horizontal Machining Centers</td>\n",
       "      <td>CMH-500 XL-50</td>\n",
       "      <td>800</td>\n",
       "      <td>600</td>\n",
       "      <td>600</td>\n",
       "    </tr>\n",
       "    <tr>\n",
       "      <th>8</th>\n",
       "      <td>Horizontal Machining Centers</td>\n",
       "      <td>MCH-400 XL</td>\n",
       "      <td>610</td>\n",
       "      <td>610</td>\n",
       "      <td>650</td>\n",
       "    </tr>\n",
       "    <tr>\n",
       "      <th>9</th>\n",
       "      <td>Horizontal Machining Centers</td>\n",
       "      <td>MCH-500L</td>\n",
       "      <td>800</td>\n",
       "      <td>800</td>\n",
       "      <td>800</td>\n",
       "    </tr>\n",
       "    <tr>\n",
       "      <th>10</th>\n",
       "      <td>Horizontal Machining Centers</td>\n",
       "      <td>MCH-500L-50</td>\n",
       "      <td>800</td>\n",
       "      <td>780</td>\n",
       "      <td>800</td>\n",
       "    </tr>\n",
       "    <tr>\n",
       "      <th>11</th>\n",
       "      <td>Horizontal Machining Centers</td>\n",
       "      <td>MCH-630</td>\n",
       "      <td>1000</td>\n",
       "      <td>900</td>\n",
       "      <td>910</td>\n",
       "    </tr>\n",
       "    <tr>\n",
       "      <th>12</th>\n",
       "      <td>Horizontal Machining Centers</td>\n",
       "      <td>MCH-800</td>\n",
       "      <td>1500</td>\n",
       "      <td>1200</td>\n",
       "      <td>1300</td>\n",
       "    </tr>\n",
       "  </tbody>\n",
       "</table>\n",
       "</div>"
      ],
      "text/plain": [
       "                         param_2     model_name x_travel y_travel z_travel\n",
       "0   Horizontal Machining Centers         PROTON     500      400       400\n",
       "1   Horizontal Machining Centers      HMC-400XL     600      500       500\n",
       "2   Horizontal Machining Centers        CMH-400     600      500       500\n",
       "3   Horizontal Machining Centers     CMH-400 XL     600      500       500\n",
       "4   Horizontal Machining Centers        CMH-500     800      600       600\n",
       "5   Horizontal Machining Centers     CMH-500-50     800      600       600\n",
       "6   Horizontal Machining Centers     CMH-500 XL     800      600       600\n",
       "7   Horizontal Machining Centers  CMH-500 XL-50     800      600       600\n",
       "8   Horizontal Machining Centers     MCH-400 XL     610      610       650\n",
       "9   Horizontal Machining Centers       MCH-500L     800      800       800\n",
       "10  Horizontal Machining Centers    MCH-500L-50     800      780       800\n",
       "11  Horizontal Machining Centers        MCH-630    1000      900       910\n",
       "12  Horizontal Machining Centers        MCH-800    1500     1200      1300"
      ]
     },
     "execution_count": 215,
     "metadata": {},
     "output_type": "execute_result"
    }
   ],
   "source": [
    "df9"
   ]
  },
  {
   "cell_type": "code",
   "execution_count": 216,
   "id": "8d34ddf9-ceee-40ef-a1fe-970917d1778c",
   "metadata": {},
   "outputs": [
    {
     "data": {
      "text/html": [
       "<div>\n",
       "<style scoped>\n",
       "    .dataframe tbody tr th:only-of-type {\n",
       "        vertical-align: middle;\n",
       "    }\n",
       "\n",
       "    .dataframe tbody tr th {\n",
       "        vertical-align: top;\n",
       "    }\n",
       "\n",
       "    .dataframe thead th {\n",
       "        text-align: right;\n",
       "    }\n",
       "</style>\n",
       "<table border=\"1\" class=\"dataframe\">\n",
       "  <thead>\n",
       "    <tr style=\"text-align: right;\">\n",
       "      <th></th>\n",
       "      <th>param_2</th>\n",
       "      <th>model_name</th>\n",
       "      <th>x_travel</th>\n",
       "      <th>y_travel</th>\n",
       "      <th>z_travel</th>\n",
       "    </tr>\n",
       "  </thead>\n",
       "  <tbody>\n",
       "    <tr>\n",
       "      <th>0</th>\n",
       "      <td>Double Column</td>\n",
       "      <td>DC-2512</td>\n",
       "      <td>2700</td>\n",
       "      <td>1450</td>\n",
       "      <td>800 / 1000</td>\n",
       "    </tr>\n",
       "    <tr>\n",
       "      <th>1</th>\n",
       "      <td>Double Column</td>\n",
       "      <td>DC-2516</td>\n",
       "      <td>2700</td>\n",
       "      <td>1700</td>\n",
       "      <td>800 / 1000</td>\n",
       "    </tr>\n",
       "    <tr>\n",
       "      <th>2</th>\n",
       "      <td>Double Column</td>\n",
       "      <td>DC-3016</td>\n",
       "      <td>3200</td>\n",
       "      <td>1700</td>\n",
       "      <td>800 / 1000</td>\n",
       "    </tr>\n",
       "    <tr>\n",
       "      <th>3</th>\n",
       "      <td>Double Column</td>\n",
       "      <td>DC-3020</td>\n",
       "      <td>3200</td>\n",
       "      <td>2200</td>\n",
       "      <td>800 / 1000</td>\n",
       "    </tr>\n",
       "    <tr>\n",
       "      <th>4</th>\n",
       "      <td>Double Column</td>\n",
       "      <td>DC-4020</td>\n",
       "      <td>4200</td>\n",
       "      <td>2200</td>\n",
       "      <td>1000</td>\n",
       "    </tr>\n",
       "  </tbody>\n",
       "</table>\n",
       "</div>"
      ],
      "text/plain": [
       "         param_2 model_name x_travel y_travel    z_travel\n",
       "0  Double Column    DC-2512     2700     1450  800 / 1000\n",
       "1  Double Column    DC-2516     2700     1700  800 / 1000\n",
       "2  Double Column    DC-3016     3200     1700  800 / 1000\n",
       "3  Double Column    DC-3020     3200     2200  800 / 1000\n",
       "4  Double Column    DC-4020     4200     2200        1000"
      ]
     },
     "execution_count": 216,
     "metadata": {},
     "output_type": "execute_result"
    }
   ],
   "source": [
    "df10"
   ]
  },
  {
   "cell_type": "code",
   "execution_count": 236,
   "id": "a3d0b9cc-d0ca-4a56-ba81-1cad71ab55e0",
   "metadata": {},
   "outputs": [],
   "source": [
    "final_df = pd.concat([c_df,df7, df8,df9,df10], axis=0)\n",
    "final_df = final_df.reset_index(drop=True)"
   ]
  },
  {
   "cell_type": "code",
   "execution_count": 237,
   "id": "5e1b513a-b61e-475d-8e0c-5ebbeaa87b39",
   "metadata": {},
   "outputs": [
    {
     "data": {
      "text/html": [
       "<div>\n",
       "<style scoped>\n",
       "    .dataframe tbody tr th:only-of-type {\n",
       "        vertical-align: middle;\n",
       "    }\n",
       "\n",
       "    .dataframe tbody tr th {\n",
       "        vertical-align: top;\n",
       "    }\n",
       "\n",
       "    .dataframe thead th {\n",
       "        text-align: right;\n",
       "    }\n",
       "</style>\n",
       "<table border=\"1\" class=\"dataframe\">\n",
       "  <thead>\n",
       "    <tr style=\"text-align: right;\">\n",
       "      <th></th>\n",
       "      <th>param_2</th>\n",
       "      <th>model_name</th>\n",
       "      <th>x_travel</th>\n",
       "      <th>y_travel</th>\n",
       "      <th>z_travel</th>\n",
       "    </tr>\n",
       "  </thead>\n",
       "  <tbody>\n",
       "    <tr>\n",
       "      <th>0</th>\n",
       "      <td>Drill Tap Machining Centers</td>\n",
       "      <td>SPARK</td>\n",
       "      <td>300</td>\n",
       "      <td>250</td>\n",
       "      <td>250</td>\n",
       "    </tr>\n",
       "    <tr>\n",
       "      <th>1</th>\n",
       "      <td>Drill Tap Machining Centers</td>\n",
       "      <td>SPARK XL</td>\n",
       "      <td>400</td>\n",
       "      <td>300</td>\n",
       "      <td>250</td>\n",
       "    </tr>\n",
       "    <tr>\n",
       "      <th>2</th>\n",
       "      <td>Drill Tap Machining Centers</td>\n",
       "      <td>DTC-400</td>\n",
       "      <td>500</td>\n",
       "      <td>400</td>\n",
       "      <td>320</td>\n",
       "    </tr>\n",
       "    <tr>\n",
       "      <th>3</th>\n",
       "      <td>Drill Tap Machining Centers</td>\n",
       "      <td>DTC-400 XL</td>\n",
       "      <td>500</td>\n",
       "      <td>400</td>\n",
       "      <td>320</td>\n",
       "    </tr>\n",
       "    <tr>\n",
       "      <th>4</th>\n",
       "      <td>Drill Tap Machining Centers</td>\n",
       "      <td>DTC-400L XL</td>\n",
       "      <td>700</td>\n",
       "      <td>400</td>\n",
       "      <td>320</td>\n",
       "    </tr>\n",
       "    <tr>\n",
       "      <th>...</th>\n",
       "      <td>...</td>\n",
       "      <td>...</td>\n",
       "      <td>...</td>\n",
       "      <td>...</td>\n",
       "      <td>...</td>\n",
       "    </tr>\n",
       "    <tr>\n",
       "      <th>63</th>\n",
       "      <td>Double Column</td>\n",
       "      <td>DC-2512</td>\n",
       "      <td>2700</td>\n",
       "      <td>1450</td>\n",
       "      <td>800 / 1000</td>\n",
       "    </tr>\n",
       "    <tr>\n",
       "      <th>64</th>\n",
       "      <td>Double Column</td>\n",
       "      <td>DC-2516</td>\n",
       "      <td>2700</td>\n",
       "      <td>1700</td>\n",
       "      <td>800 / 1000</td>\n",
       "    </tr>\n",
       "    <tr>\n",
       "      <th>65</th>\n",
       "      <td>Double Column</td>\n",
       "      <td>DC-3016</td>\n",
       "      <td>3200</td>\n",
       "      <td>1700</td>\n",
       "      <td>800 / 1000</td>\n",
       "    </tr>\n",
       "    <tr>\n",
       "      <th>66</th>\n",
       "      <td>Double Column</td>\n",
       "      <td>DC-3020</td>\n",
       "      <td>3200</td>\n",
       "      <td>2200</td>\n",
       "      <td>800 / 1000</td>\n",
       "    </tr>\n",
       "    <tr>\n",
       "      <th>67</th>\n",
       "      <td>Double Column</td>\n",
       "      <td>DC-4020</td>\n",
       "      <td>4200</td>\n",
       "      <td>2200</td>\n",
       "      <td>1000</td>\n",
       "    </tr>\n",
       "  </tbody>\n",
       "</table>\n",
       "<p>68 rows × 5 columns</p>\n",
       "</div>"
      ],
      "text/plain": [
       "                        param_2   model_name x_travel y_travel    z_travel\n",
       "0   Drill Tap Machining Centers        SPARK     300      250          250\n",
       "1   Drill Tap Machining Centers     SPARK XL     400      300          250\n",
       "2   Drill Tap Machining Centers      DTC-400     500      400          320\n",
       "3   Drill Tap Machining Centers   DTC-400 XL     500      400          320\n",
       "4   Drill Tap Machining Centers  DTC-400L XL     700      400          320\n",
       "..                          ...          ...      ...      ...         ...\n",
       "63                Double Column      DC-2512     2700     1450  800 / 1000\n",
       "64                Double Column      DC-2516     2700     1700  800 / 1000\n",
       "65                Double Column      DC-3016     3200     1700  800 / 1000\n",
       "66                Double Column      DC-3020     3200     2200  800 / 1000\n",
       "67                Double Column      DC-4020     4200     2200        1000\n",
       "\n",
       "[68 rows x 5 columns]"
      ]
     },
     "execution_count": 237,
     "metadata": {},
     "output_type": "execute_result"
    }
   ],
   "source": [
    "final_df"
   ]
  },
  {
   "cell_type": "code",
   "execution_count": 238,
   "id": "5f1e2a43-2dfe-44a4-aa57-e203ee09ff30",
   "metadata": {},
   "outputs": [],
   "source": [
    "milling = []\n",
    "for i in range(len(final_df)):\n",
    "    milling.append(\"Milling\")"
   ]
  },
  {
   "cell_type": "code",
   "execution_count": 239,
   "id": "db5b90b0-03d6-4b06-8c2e-7cfe5fe01c6e",
   "metadata": {},
   "outputs": [],
   "source": [
    "final_df.insert(0, 'param_1', milling)"
   ]
  },
  {
   "cell_type": "code",
   "execution_count": 240,
   "id": "960e98a9-f980-4157-a92c-335a706fa814",
   "metadata": {},
   "outputs": [
    {
     "data": {
      "text/html": [
       "<div>\n",
       "<style scoped>\n",
       "    .dataframe tbody tr th:only-of-type {\n",
       "        vertical-align: middle;\n",
       "    }\n",
       "\n",
       "    .dataframe tbody tr th {\n",
       "        vertical-align: top;\n",
       "    }\n",
       "\n",
       "    .dataframe thead th {\n",
       "        text-align: right;\n",
       "    }\n",
       "</style>\n",
       "<table border=\"1\" class=\"dataframe\">\n",
       "  <thead>\n",
       "    <tr style=\"text-align: right;\">\n",
       "      <th></th>\n",
       "      <th>param_1</th>\n",
       "      <th>param_2</th>\n",
       "      <th>model_name</th>\n",
       "      <th>x_travel</th>\n",
       "      <th>y_travel</th>\n",
       "      <th>z_travel</th>\n",
       "    </tr>\n",
       "  </thead>\n",
       "  <tbody>\n",
       "    <tr>\n",
       "      <th>0</th>\n",
       "      <td>Milling</td>\n",
       "      <td>Drill Tap Machining Centers</td>\n",
       "      <td>SPARK</td>\n",
       "      <td>300</td>\n",
       "      <td>250</td>\n",
       "      <td>250</td>\n",
       "    </tr>\n",
       "    <tr>\n",
       "      <th>1</th>\n",
       "      <td>Milling</td>\n",
       "      <td>Drill Tap Machining Centers</td>\n",
       "      <td>SPARK XL</td>\n",
       "      <td>400</td>\n",
       "      <td>300</td>\n",
       "      <td>250</td>\n",
       "    </tr>\n",
       "    <tr>\n",
       "      <th>2</th>\n",
       "      <td>Milling</td>\n",
       "      <td>Drill Tap Machining Centers</td>\n",
       "      <td>DTC-400</td>\n",
       "      <td>500</td>\n",
       "      <td>400</td>\n",
       "      <td>320</td>\n",
       "    </tr>\n",
       "    <tr>\n",
       "      <th>3</th>\n",
       "      <td>Milling</td>\n",
       "      <td>Drill Tap Machining Centers</td>\n",
       "      <td>DTC-400 XL</td>\n",
       "      <td>500</td>\n",
       "      <td>400</td>\n",
       "      <td>320</td>\n",
       "    </tr>\n",
       "    <tr>\n",
       "      <th>4</th>\n",
       "      <td>Milling</td>\n",
       "      <td>Drill Tap Machining Centers</td>\n",
       "      <td>DTC-400L XL</td>\n",
       "      <td>700</td>\n",
       "      <td>400</td>\n",
       "      <td>320</td>\n",
       "    </tr>\n",
       "    <tr>\n",
       "      <th>...</th>\n",
       "      <td>...</td>\n",
       "      <td>...</td>\n",
       "      <td>...</td>\n",
       "      <td>...</td>\n",
       "      <td>...</td>\n",
       "      <td>...</td>\n",
       "    </tr>\n",
       "    <tr>\n",
       "      <th>63</th>\n",
       "      <td>Milling</td>\n",
       "      <td>Double Column</td>\n",
       "      <td>DC-2512</td>\n",
       "      <td>2700</td>\n",
       "      <td>1450</td>\n",
       "      <td>800 / 1000</td>\n",
       "    </tr>\n",
       "    <tr>\n",
       "      <th>64</th>\n",
       "      <td>Milling</td>\n",
       "      <td>Double Column</td>\n",
       "      <td>DC-2516</td>\n",
       "      <td>2700</td>\n",
       "      <td>1700</td>\n",
       "      <td>800 / 1000</td>\n",
       "    </tr>\n",
       "    <tr>\n",
       "      <th>65</th>\n",
       "      <td>Milling</td>\n",
       "      <td>Double Column</td>\n",
       "      <td>DC-3016</td>\n",
       "      <td>3200</td>\n",
       "      <td>1700</td>\n",
       "      <td>800 / 1000</td>\n",
       "    </tr>\n",
       "    <tr>\n",
       "      <th>66</th>\n",
       "      <td>Milling</td>\n",
       "      <td>Double Column</td>\n",
       "      <td>DC-3020</td>\n",
       "      <td>3200</td>\n",
       "      <td>2200</td>\n",
       "      <td>800 / 1000</td>\n",
       "    </tr>\n",
       "    <tr>\n",
       "      <th>67</th>\n",
       "      <td>Milling</td>\n",
       "      <td>Double Column</td>\n",
       "      <td>DC-4020</td>\n",
       "      <td>4200</td>\n",
       "      <td>2200</td>\n",
       "      <td>1000</td>\n",
       "    </tr>\n",
       "  </tbody>\n",
       "</table>\n",
       "<p>68 rows × 6 columns</p>\n",
       "</div>"
      ],
      "text/plain": [
       "    param_1                      param_2   model_name x_travel y_travel  \\\n",
       "0   Milling  Drill Tap Machining Centers        SPARK     300      250    \n",
       "1   Milling  Drill Tap Machining Centers     SPARK XL     400      300    \n",
       "2   Milling  Drill Tap Machining Centers      DTC-400     500      400    \n",
       "3   Milling  Drill Tap Machining Centers   DTC-400 XL     500      400    \n",
       "4   Milling  Drill Tap Machining Centers  DTC-400L XL     700      400    \n",
       "..      ...                          ...          ...      ...      ...   \n",
       "63  Milling                Double Column      DC-2512     2700     1450   \n",
       "64  Milling                Double Column      DC-2516     2700     1700   \n",
       "65  Milling                Double Column      DC-3016     3200     1700   \n",
       "66  Milling                Double Column      DC-3020     3200     2200   \n",
       "67  Milling                Double Column      DC-4020     4200     2200   \n",
       "\n",
       "      z_travel  \n",
       "0          250  \n",
       "1          250  \n",
       "2          320  \n",
       "3          320  \n",
       "4          320  \n",
       "..         ...  \n",
       "63  800 / 1000  \n",
       "64  800 / 1000  \n",
       "65  800 / 1000  \n",
       "66  800 / 1000  \n",
       "67        1000  \n",
       "\n",
       "[68 rows x 6 columns]"
      ]
     },
     "execution_count": 240,
     "metadata": {},
     "output_type": "execute_result"
    }
   ],
   "source": [
    "final_df"
   ]
  },
  {
   "cell_type": "code",
   "execution_count": 241,
   "id": "c7b47c7b-d3e7-425b-9eff-54ca14fa6940",
   "metadata": {},
   "outputs": [],
   "source": [
    "final_df.to_csv('Ace_Micromatic.csv')"
   ]
  },
  {
   "cell_type": "code",
   "execution_count": null,
   "id": "cc3b2b04-aa58-41b5-9c22-76c43025cb49",
   "metadata": {},
   "outputs": [],
   "source": []
  }
 ],
 "metadata": {
  "kernelspec": {
   "display_name": "Python 3 (ipykernel)",
   "language": "python",
   "name": "python3"
  },
  "language_info": {
   "codemirror_mode": {
    "name": "ipython",
    "version": 3
   },
   "file_extension": ".py",
   "mimetype": "text/x-python",
   "name": "python",
   "nbconvert_exporter": "python",
   "pygments_lexer": "ipython3",
   "version": "3.10.5"
  }
 },
 "nbformat": 4,
 "nbformat_minor": 5
}
